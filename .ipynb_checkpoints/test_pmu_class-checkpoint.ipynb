{
 "cells": [
  {
   "cell_type": "code",
   "execution_count": null,
   "metadata": {},
   "outputs": [],
   "source": [
    "'''\n",
    "Notebook to test my own C37.118 protocol implementation.\n",
    "\n",
    "'''"
   ]
  },
  {
   "cell_type": "code",
   "execution_count": 23,
   "metadata": {
    "ExecuteTime": {
     "end_time": "2020-03-11T00:16:51.088213Z",
     "start_time": "2020-03-11T00:16:51.084261Z"
    }
   },
   "outputs": [],
   "source": [
    "from class_PMU import PMU\n",
    "import matplotlib.pyplot as plt\n",
    "import pandas as pd\n",
    "from pandas.plotting import register_matplotlib_converters\n",
    "register_matplotlib_converters()\n",
    "from drawnow import drawnow"
   ]
  },
  {
   "cell_type": "code",
   "execution_count": 13,
   "metadata": {
    "ExecuteTime": {
     "end_time": "2020-03-11T00:08:32.899770Z",
     "start_time": "2020-03-11T00:08:32.700643Z"
    }
   },
   "outputs": [
    {
     "name": "stdout",
     "output_type": "stream",
     "text": [
      " ACK: 170\n",
      " frameType: 0\n",
      " frameTypeStr: Data Frame\n",
      " protocolVer: 1\n",
      " FRAMESIZE: 124\n",
      " IDCODE: 1\n",
      " SOC: 10872\n",
      " FRACSEC: 4000000\n",
      " TIME_QUALITY: 15\n",
      " TIME_UNIX: 10872.4\n",
      " TIME: 1970-01-01 03:01:12.400000\n",
      " STAT_bits: b'!\\xb0'\n",
      " STAT_VALID_DATA: True\n",
      " STAT_PMU_ERROR: False\n",
      " STAT_TIME_SYNC: False\n",
      " STAT_DATA_SORTING: timestamp\n",
      " STAT_TRIGGER_DETECTED: False\n",
      " STAT_CONFIG_CHANGED: False\n",
      " STAT_UNLOCKED_TIME: unlocked_1000\n",
      " STAT_TRIGGER_REASON: manual\n",
      " PHASORS_magnitude: [0.2694512605667114, 0.8068792819976807, 0.005914211273193359, 0.0027229785919189453, 0.006758689880371094, 0.0001785755157470703, 0.0035719871520996094, 0.0003228187561035156]\n",
      " PHASORS_angle: [137.68119110031117, 137.8345425075563, -42.03608505814166, -41.02205468339405, -41.84723374268539, -32.91946957289963, -41.63755035026058, 132.3708009828963]\n",
      " FREQ: 59.97941970825195\n",
      " DFREC: -39.33739471435547\n",
      " ANALOG: [4.4180993086229137e-07, 6.381541197697516e-07, 4.604830792231951e-07, 0.6923248171806335, -0.004753009881824255, 0.0047530229203403, 1.1137361980217975e-05, -0.9999972581863403]\n",
      " DIGITAL: b'\\x00\\xff'\n"
     ]
    }
   ],
   "source": [
    "#print dataframe dict\n",
    "p = PMU(\"10.10.200.22\")\n",
    "p.connect()\n",
    "d = p.read_dataframe_dict()\n",
    "p.disconnect()\n",
    "for keys,values in d.items():\n",
    "    print(' {}: {}'.format( keys,values))\n"
   ]
  },
  {
   "cell_type": "code",
   "execution_count": 21,
   "metadata": {
    "ExecuteTime": {
     "end_time": "2020-03-11T00:14:32.793422Z",
     "start_time": "2020-03-11T00:14:32.787440Z"
    }
   },
   "outputs": [],
   "source": [
    "#to plot continously\n",
    "def make_fig():\n",
    "    plt.xticks(rotation=70)\n",
    "    plt.tight_layout()\n",
    "    plt.plot(x, y)  "
   ]
  },
  {
   "cell_type": "code",
   "execution_count": 25,
   "metadata": {
    "ExecuteTime": {
     "end_time": "2020-03-11T00:17:58.293497Z",
     "start_time": "2020-03-11T00:17:46.170639Z"
    },
    "scrolled": false
   },
   "outputs": [],
   "source": [
    "#matplotlib\n",
    "#popup window\n",
    "%matplotlib tk \n",
    "\n",
    "plt.ion()  # enable interactivity\n",
    "fig = plt.figure()  # make a figure\n",
    "plt.autoscale(enable=True)\n",
    "x = list()\n",
    "y = list()\n",
    "\n",
    "p = PMU(\"10.10.200.22\")\n",
    "p.connect()\n",
    "#read  measurements \n",
    "#this code is not optimal, n frames per second are expected\n",
    "#is only for testing purposes, data could be lost or superimposed\n",
    "n= 0\n",
    "dataframenumber = 0 #counter for dataframes\n",
    "#ask for n dataframes\n",
    "for i in range(100):\n",
    "    d = p.read_dataframe_dict()\n",
    "    x.append(pd.to_datetime(d['TIME'], format = '%Y-%m-%d %H:%M:%S.%f'))\n",
    "    y.append(d['FREQ'])  # or any arbitrary update to your figure's data\n",
    "    drawnow(make_fig)\n",
    "    if len(x) >30:\n",
    "        x.pop(0)\n",
    "        y.pop(0)\n",
    "    \n",
    "p.disconnect()"
   ]
  }
 ],
 "metadata": {
  "hide_input": false,
  "kernelspec": {
   "display_name": "Python 3",
   "language": "python",
   "name": "python3"
  },
  "language_info": {
   "codemirror_mode": {
    "name": "ipython",
    "version": 3
   },
   "file_extension": ".py",
   "mimetype": "text/x-python",
   "name": "python",
   "nbconvert_exporter": "python",
   "pygments_lexer": "ipython3",
   "version": "3.6.7"
  }
 },
 "nbformat": 4,
 "nbformat_minor": 2
}
