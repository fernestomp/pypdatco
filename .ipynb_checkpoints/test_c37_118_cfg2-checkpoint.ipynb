{
 "cells": [
  {
   "cell_type": "code",
   "execution_count": 1,
   "metadata": {
    "ExecuteTime": {
     "end_time": "2020-02-28T00:12:34.064787Z",
     "start_time": "2020-02-28T00:12:34.052818Z"
    }
   },
   "outputs": [
    {
     "data": {
      "text/plain": [
       "'\\nThis notebook is for testing the C37.118 standard. It does the following:\\n1.  First you need to define the PMU parameters (IP, idcode, ...)\\n2. Ask the PMU to send the configuration, to do this, you need to send the command 0101 to the PMU.\\n   This command is divided in fields, and its sent byte for byte. The order of the bytes is copied \\n   from the C37.118 standard documentation tables.\\n3. We receive the CFG2 frame that is stored in a variable (table 9).\\n4. The CFG2 is decoded to get the human readable parameters of the PMU.\\n\\nWireshark was used to test the results.\\n'"
      ]
     },
     "execution_count": 1,
     "metadata": {},
     "output_type": "execute_result"
    }
   ],
   "source": [
    "'''\n",
    "This notebook is for testing the C37.118 standard. It does the following:\n",
    "1.  First you need to define the PMU parameters (IP, idcode, ...)\n",
    "2. Ask the PMU to send the configuration, to do this, you need to send the command 0101 to the PMU.\n",
    "   This command is divided in fields, and its sent byte for byte. The order of the bytes is copied \n",
    "   from the C37.118 standard documentation tables.\n",
    "3. We receive the CFG2 frame that is stored in a variable (table 9).\n",
    "4. The CFG2 is decoded to get the human readable parameters of the PMU.\n",
    "\n",
    "Wireshark was used to test the results.\n",
    "'''"
   ]
  },
  {
   "cell_type": "code",
   "execution_count": 2,
   "metadata": {
    "ExecuteTime": {
     "end_time": "2020-02-28T00:12:34.077752Z",
     "start_time": "2020-02-28T00:12:34.067777Z"
    }
   },
   "outputs": [],
   "source": [
    "import socket\n",
    "import time\n",
    "import math\n",
    "import crcmod #change for own implementation"
   ]
  },
  {
   "cell_type": "code",
   "execution_count": 3,
   "metadata": {
    "ExecuteTime": {
     "end_time": "2020-02-28T00:12:34.085717Z",
     "start_time": "2020-02-28T00:12:34.080742Z"
    }
   },
   "outputs": [],
   "source": [
    "#funcion para calcular crc\n",
    "def get_CRC(mess):\n",
    "    #ver la tabla del modulo crcmod para ver porque es 0x11021 y demas\n",
    "    #g(x)=x^16+x^12+x^5+1 -- > 0x11021--> 10001000000100001b\n",
    "    crc16_func = crcmod.mkCrcFun(0x11021, initCrc=0xFFFF, xorOut=0x0000,rev=False)\n",
    "    crc16val = crc16_func(mess)#valor de crc16\n",
    "    crcbyte1 = (crc16val & 65280) >>8\n",
    "    crcbyte2 = crc16val & 255\n",
    "    return crcbyte1,crcbyte2,crc16val\n"
   ]
  },
  {
   "cell_type": "markdown",
   "metadata": {},
   "source": [
    "# PMU parameters"
   ]
  },
  {
   "cell_type": "code",
   "execution_count": 4,
   "metadata": {
    "ExecuteTime": {
     "end_time": "2020-02-28T00:12:34.092700Z",
     "start_time": "2020-02-28T00:12:34.088710Z"
    }
   },
   "outputs": [],
   "source": [
    "#PMU parameters\n",
    "#idcode de la PMU\n",
    "idcode=1\n",
    "tcpip= \"10.10.200.22\"\n",
    "tcpport = 4712\n",
    "buffersize= 2048"
   ]
  },
  {
   "cell_type": "markdown",
   "metadata": {},
   "source": [
    "# ask for configuration frame"
   ]
  },
  {
   "cell_type": "code",
   "execution_count": 5,
   "metadata": {
    "ExecuteTime": {
     "end_time": "2020-02-28T00:12:39.163137Z",
     "start_time": "2020-02-28T00:12:34.096688Z"
    }
   },
   "outputs": [
    {
     "ename": "timeout",
     "evalue": "timed out",
     "output_type": "error",
     "traceback": [
      "\u001b[1;31m---------------------------------------------------------------------------\u001b[0m",
      "\u001b[1;31mtimeout\u001b[0m                                   Traceback (most recent call last)",
      "\u001b[1;32m<ipython-input-5-270f206679c3>\u001b[0m in \u001b[0;36m<module>\u001b[1;34m()\u001b[0m\n\u001b[0;32m     50\u001b[0m \u001b[0ms\u001b[0m\u001b[1;33m.\u001b[0m\u001b[0mconnect\u001b[0m\u001b[1;33m(\u001b[0m\u001b[1;33m(\u001b[0m\u001b[0mtcpip\u001b[0m\u001b[1;33m,\u001b[0m \u001b[0mtcpport\u001b[0m\u001b[1;33m)\u001b[0m\u001b[1;33m)\u001b[0m\u001b[1;33m\u001b[0m\u001b[1;33m\u001b[0m\u001b[0m\n\u001b[0;32m     51\u001b[0m \u001b[0ms\u001b[0m\u001b[1;33m.\u001b[0m\u001b[0msend\u001b[0m\u001b[1;33m(\u001b[0m\u001b[0mmessage_bytearr\u001b[0m\u001b[1;33m)\u001b[0m\u001b[1;33m\u001b[0m\u001b[1;33m\u001b[0m\u001b[0m\n\u001b[1;32m---> 52\u001b[1;33m \u001b[0mdframe\u001b[0m \u001b[1;33m=\u001b[0m \u001b[0ms\u001b[0m\u001b[1;33m.\u001b[0m\u001b[0mrecv\u001b[0m\u001b[1;33m(\u001b[0m\u001b[0mbuffersize\u001b[0m\u001b[1;33m)\u001b[0m\u001b[1;33m\u001b[0m\u001b[1;33m\u001b[0m\u001b[0m\n\u001b[0m\u001b[0;32m     53\u001b[0m \u001b[1;33m\u001b[0m\u001b[0m\n\u001b[0;32m     54\u001b[0m \u001b[0ms\u001b[0m\u001b[1;33m.\u001b[0m\u001b[0mclose\u001b[0m\u001b[1;33m(\u001b[0m\u001b[1;33m)\u001b[0m\u001b[1;33m\u001b[0m\u001b[1;33m\u001b[0m\u001b[0m\n",
      "\u001b[1;31mtimeout\u001b[0m: timed out"
     ]
    }
   ],
   "source": [
    "# 1 field SYNC \n",
    "field1_1 = 170#AA.\n",
    "field1_2 = 65 #0-reservado100-data frame comando0001-2005\n",
    "#2 FRAMESIZE\n",
    "field2_1 =0  #el tamaño siempre es 18 incluyendo los dos bits del CHK\n",
    "field2_2=18\n",
    "# 3 field IDCODE\n",
    "#dividir en dos bytes y hacer un bitshift 8 lugares a la derecha\n",
    "field3_1 = idcode >> 8 \n",
    "field3_2 = idcode & 255 #quedaria 00000001 para un idcode=1\n",
    "#4 SOC\n",
    "#send unix time\n",
    "PCtime = time.time()\n",
    "t =int(PCtime).to_bytes(4,'big')\n",
    "field4_1 =t[0]\n",
    "field4_2 =t[1]\n",
    "field4_3 =t[2]\n",
    "field4_4 =t[3]\n",
    "#5 FRACSEC\n",
    "#fmod:get fractional part,\n",
    "#round: to convert fractional part to 3 bytes (precision is lost)\n",
    "#str:to do slicing and remove \"0.\" part\n",
    "#int to_bytes: list of 3 bytes of the fractional part\n",
    "fsec = int(str(round(math.fmod(PCtime,1),7))[2:]).to_bytes(3,'big')\n",
    "field5_1 =0 #time quality flags, ignore leap seconds\n",
    "field5_2 =fsec[0]\n",
    "field5_3 =fsec[1]\n",
    "field5_4 =fsec[2]\n",
    "#6 CMD\n",
    "field6_1 = 0 #primer byte es cero\n",
    "field6_2= 5 #00000101- comandoget CFG2\n",
    "#7 EXTFRAME no se usa\n",
    "#8 CHK\n",
    "#mensajae sin CHK\n",
    "messnoCHK = [field1_1 , field1_2,\n",
    "    field2_1,field2_2,\n",
    "    field3_1, field3_2,\n",
    "    field4_1, field4_2, field4_3, field4_4,\n",
    "    field5_1, field5_2, field5_3, field5_4,\n",
    "    field6_1, field6_2]\n",
    "\n",
    "[crcbyte1,crcbyte2,crc_16] = get_CRC(bytearray(messnoCHK));\n",
    "#mensaje con los datos del CFG2 que seran enviados\n",
    "message = messnoCHK.copy()\n",
    "message.append(crcbyte1)\n",
    "message.append(crcbyte2)\n",
    "message_bytearr = bytearray(message)\n",
    "s = socket.socket(socket.AF_INET, socket.SOCK_STREAM)\n",
    "s.settimeout(5)\n",
    "s.connect((tcpip, tcpport))\n",
    "s.send(message_bytearr)\n",
    "dframe = s.recv(buffersize)\n",
    "\n",
    "s.close()\n",
    "print('Received raw configuration frame:')\n",
    "print (dframe)\n",
    "#print every byte received with the byte number and binary format\n",
    "#print('Datos en forma de lista:')\n",
    "#for i,d in enumerate(list(dframe)):\n",
    "#    print('byte {} - {} - {} - {}'.format(i,d, bin(d),chr(dframe[i])))"
   ]
  },
  {
   "cell_type": "markdown",
   "metadata": {},
   "source": [
    "# decode cfg2 dataframe"
   ]
  },
  {
   "cell_type": "code",
   "execution_count": null,
   "metadata": {
    "ExecuteTime": {
     "end_time": "2020-02-28T00:12:39.164161Z",
     "start_time": "2020-02-28T00:12:34.063Z"
    }
   },
   "outputs": [],
   "source": [
    "\n",
    "# va en orden, segun la tabla 9 del protocolo c37.118 (configuration frame organization)\n",
    "# decodificar CFG2\n",
    "#####################################\n",
    "#         1 SYNC (2 bytes)\n",
    "####################################\n",
    "SYNCread = dframe[0:2]\n",
    "leadingbyteSYNC = SYNCread[0]#debe ser 0xAA\n",
    "secondbyteSYNC = SYNCread[1]\n",
    "print('Leading byte SYNC: '.format(leadingbyteSYNC))\n",
    "print(print('Second byte SYNC: '.format(secondbyteSYNC)))"
   ]
  },
  {
   "cell_type": "code",
   "execution_count": null,
   "metadata": {
    "ExecuteTime": {
     "end_time": "2020-02-28T00:12:39.167127Z",
     "start_time": "2020-02-28T00:12:34.066Z"
    }
   },
   "outputs": [],
   "source": [
    "###########################################################\n",
    "#           OBTENER EL TIPO DE DATAFRAME (2 bytes)        #\n",
    "###########################################################               \n",
    "# Frame synchronization word.                             #\n",
    "# Leading byte: AA hex                                    #\n",
    "# Second byte: Frame type and Version, divided as follows:#\n",
    "# Bit 7: Reserved for future definition                   #\n",
    "# Bits 6–4: 000: Data Frame                               #\n",
    "# 001: Header Frame                                       #\n",
    "# 010: Configuration Frame 1                              #\n",
    "# 011: Configuration Frame 2                              #\n",
    "# 100: Command Frame (received message)                   #\n",
    "# Bits 3–0: Version number, in binary (1–15),             #\n",
    "# version 1 for this initial publication.                 #\n",
    "###########################################################\n",
    "#tomar los bytes 7,6,5 que indican el tipo de frame (empieza en 1 y no cero)\n",
    "#y desplazar 4 bytes a la derecha para que queden al inicio de la palabra\n",
    "#no en medio y poder tomar el numero decimal directo\n",
    "frametypebits = (secondbyteSYNC & 112) >> 4 #112 = 01110000b\n",
    "# frameType=  bin2dec([num2str(bitget(rdSYNC(2),7))...\n",
    "#         num2str(bitget(rdSYNC(2),6))...\n",
    "#         num2str(bitget(rdSYNC(2),5))]);\n",
    "\n",
    "if  frametypebits == 0:\n",
    "        strframetype ='Data Frame'\n",
    "\n",
    "elif frametypebits == 1:\n",
    "        strframetype ='Header Frame'\n",
    "        \n",
    "elif frametypebits == 2:\n",
    "        strframetype ='Configuration frame 1'\n",
    "\n",
    "elif frametypebits == 3:\n",
    "        strframetype ='Configuration frame 2'\n",
    "\n",
    "elif frametypebits == 4:\n",
    "        strframetype ='Command frame'\n",
    "\n",
    "#version del protocolo    \n",
    "#Bits 3–0: Version number, in binary (1–15), version 1 for this initial\n",
    "#publication.\n",
    "\n",
    "#Primeros 4 bits del secondbyteSYNC\n",
    "protocolversion = secondbyteSYNC & 15 #00001111b = 15\n",
    "\n",
    "print('Dataframe type: {} '.format(strframetype))\n",
    "print('Protocol version: {}'.format(protocolversion))\n"
   ]
  },
  {
   "cell_type": "code",
   "execution_count": null,
   "metadata": {
    "ExecuteTime": {
     "end_time": "2020-02-28T00:12:39.169121Z",
     "start_time": "2020-02-28T00:12:34.068Z"
    }
   },
   "outputs": [],
   "source": [
    "###############################################################\n",
    "#                    2 FRAMESIZE 2 bytes                      #\n",
    "###############################################################\n",
    "#       Total number of bytes in the frame, including CHK.    #\n",
    "#          16-bit unsigned number. Range = maximum 65535.     #  \n",
    "#                                                             #\n",
    "###############################################################\n",
    "FRAMESIZEread = dframe[2:4]\n",
    "#Este el número de bytes recibidos en formato decimal\n",
    "#lee dos bytes, y lo convierte de word a decimal con formato \"big endian\"\n",
    "decFRAMESIZE = int.from_bytes(FRAMESIZEread,'big')\n",
    "print('Framesize: {}'.format( decFRAMESIZE))\n"
   ]
  },
  {
   "cell_type": "code",
   "execution_count": null,
   "metadata": {
    "ExecuteTime": {
     "end_time": "2020-02-28T00:12:39.172114Z",
     "start_time": "2020-02-28T00:12:34.071Z"
    }
   },
   "outputs": [],
   "source": [
    "###############################################################\n",
    "#                    3 IDCODE (2 bytes)                       #\n",
    "###############################################################\n",
    "# PMU/DC ID number, 16-bit integer, assigned by user,         #\n",
    "# 1 to 65 534 (0 and# 65 535 are reserved).                   #\n",
    "# Identifies device sending and receiving messages.           #\n",
    "###############################################################\n",
    "IDCODEread = dframe[4:6]\n",
    "#convertir de word (2 bytes) a entero, big endian\n",
    "decIDCODE = int.from_bytes(IDCODEread,'big') \n",
    "print('IDCODE: {}'.format(decIDCODE))\n"
   ]
  },
  {
   "cell_type": "code",
   "execution_count": null,
   "metadata": {
    "ExecuteTime": {
     "end_time": "2020-02-28T00:12:39.174108Z",
     "start_time": "2020-02-28T00:12:34.073Z"
    }
   },
   "outputs": [],
   "source": [
    "################################################################################\n",
    "#                               4 SOC (4 bytes)                              #\n",
    "################################################################################\n",
    "# Time stamp, 32-bit unsigned number, SOC count starting at midnight           #\n",
    "# 01-Jan-1970 (UNIX time base).                                                #\n",
    "# Ranges 136 yr, rolls over 2106 AD.                                           #\n",
    "# Leap seconds are not included in count, so each year has the same number of  #\n",
    "# seconds except leap years, which have an extra day (86 400 s).               #\n",
    "################################################################################\n",
    "SOCread = dframe[6:10]\n",
    "#SOC en formato decimal, convertir 4 bytes a entero, big endian\n",
    "decSOC = int.from_bytes(SOCread,'big')  \n",
    "print('SOC: {}'.format(decSOC))\n"
   ]
  },
  {
   "cell_type": "code",
   "execution_count": null,
   "metadata": {
    "ExecuteTime": {
     "end_time": "2020-02-28T00:12:39.176102Z",
     "start_time": "2020-02-28T00:12:34.077Z"
    }
   },
   "outputs": [],
   "source": [
    "#################################################################################\n",
    "#                              5  FRACSEC (4 bytes)                              #\n",
    "#################################################################################\n",
    "# Fraction of Second and Time Quality, time of measurement for data frames      #\n",
    "# or time of frame transmission for non-data frames.                            #\n",
    "# Bits 31–24: Time Quality as defined in 6.2.2.                                 #\n",
    "# Bits 23–00: Fraction-of-second, 24-bit integer number. When divided by        #\n",
    "# TIME_BASE yields the actual fractional second. FRACSEC used in all            #\n",
    "# messages to and from a given PMU shall use the same TIME_BASE that is         #\n",
    "# provided in the configuration message from that PMU.                          #\n",
    "#################################################################################\n",
    "#falta probar el orden de los bits\n",
    "FRACSECread = dframe[10:14]\n",
    "decFRACSEC = int.from_bytes( FRACSECread[1:4],'big')  \n",
    "#FRACSEC en formato decimal, convertir 4 bytes a entero, big endian\n",
    "TIME_QUALITY = FRACSECread[0]\n",
    "TQbit7 = TIME_QUALITY & 128 #reserved\n",
    "TQbit6 = TIME_QUALITY & 64 #leap second direction 0 for add, 1 for delete\n",
    "#Leap second ocurred. Set in the first second after the leap\n",
    "#second occurs and remains set for 24h.\n",
    "TQbit5 = TIME_QUALITY & 32 \n",
    "#Leap second pending. Set before a leap second occurs and cleared\n",
    "#in the second anfter the leap second occurs.\n",
    "TQbit4 = TIME_QUALITY & 16\n",
    "TQbits3_0 = TIME_QUALITY & 15\n",
    "\n",
    "# interpretar los bits, no los guardo en variables solo imprimo\n",
    "if TQbit6 ==0:\n",
    "        print('Leap second direction: False')\n",
    "elif TQbit6 ==1:\n",
    "        print('Leap second direction: True')\n",
    "#probar que TQbit6 sea 0 o 1, si no manda un error\n",
    "assert TQbit6   <=1, 'TQbit6 debe ser 0 o 1,no {}'.format(TQbit6)\n",
    "if TQbit5 ==0:\n",
    "        print('Leap second ocurred: False')\n",
    "elif TQbit5 ==1:\n",
    "        print('Leap second ocurred: True')\n",
    "#probar que TQbit5 sea 0 o 1, si no manda un error\n",
    "assert TQbit5   <=1, 'TQbit5 debe ser 0 o 1,no {}'.format(TQbit5)\n",
    "if TQbit4 ==0:\n",
    "        print('Leap second pending: False')\n",
    "elif TQbit4 ==1:\n",
    "        print('Leap second pending: True')\n",
    "#probar que TQbit4 sea 0 o 1, si no manda un error\n",
    "assert TQbit4   <=1, 'TQbit4 debe ser 0 o 1,no {}'.format(TQbit4)\n",
    "\n",
    "if TQbits3_0 == 15:\n",
    "    print('Fault-Clock failure, time not reliable.')\n",
    "if TQbits3_0 == 11:\n",
    "    print('Clock unlocked, time within 10 s.')\n",
    "if TQbits3_0 == 10:\n",
    "    print('Clock unlocked, time within 1 s.')\n",
    "if TQbits3_0 == 9:\n",
    "    print('Clock unlocked, time within 10E-1 s.')\n",
    "if TQbits3_0 == 8:\n",
    "    print('Clock unlocked, time within 10E-2 s.')\n",
    "if TQbits3_0 == 7:\n",
    "    print('Clock unlocked, time within 10E-3 s.')\n",
    "if TQbits3_0 == 6:\n",
    "    print('Clock unlocked, time within 10E-4 s.')\n",
    "if TQbits3_0 == 5:\n",
    "    print('Clock unlocked, time within 10E-5 s.')\n",
    "if TQbits3_0 == 4:\n",
    "    print('Clock unlocked, time within 10E-6 s.')\n",
    "if TQbits3_0 == 3:\n",
    "    print('Clock unlocked, time within 10E-7 s.') \n",
    "if TQbits3_0 == 2:\n",
    "    print('Clock unlocked, time within 10E-8 s.')\n",
    "if TQbits3_0 == 1:\n",
    "    print('Clock unlocked, time within 10E-9 s.')\n",
    "if TQbits3_0 == 0:\n",
    "    print('Normal operation, clock locked')\n",
    "print('FRACSEC: {}'.format(decFRACSEC))\n",
    "\n",
    "\n"
   ]
  },
  {
   "cell_type": "code",
   "execution_count": null,
   "metadata": {
    "ExecuteTime": {
     "end_time": "2020-02-28T00:12:39.178097Z",
     "start_time": "2020-02-28T00:12:34.080Z"
    }
   },
   "outputs": [],
   "source": [
    "##########################################################################\n",
    "#                         6 TIME_BASE (4 bytes)                                   #\n",
    "##########################################################################\n",
    "# Resolution of fraction-of-second time stamp.                           #\n",
    "##########################################################################\n",
    "TIME_BASEread = dframe[14:18]\n",
    "#TIME_BASE en formato decimal, convertir 4 bytes a entero, big endian\n",
    "decTIME_BASE = int.from_bytes(TIME_BASEread,'big')  \n",
    "print('TIME_BASE: {}'.format(decTIME_BASE))\n"
   ]
  },
  {
   "cell_type": "code",
   "execution_count": null,
   "metadata": {
    "ExecuteTime": {
     "end_time": "2020-02-28T00:12:39.184082Z",
     "start_time": "2020-02-28T00:12:34.084Z"
    }
   },
   "outputs": [],
   "source": [
    "#############################################################\n",
    "#                     7 NUM_PMU (2 bytes)                   #\n",
    "#############################################################\n",
    "# The number of PMUs included in the data frame.            #\n",
    "#############################################################\n",
    "NUM_PMUread = dframe[18:20]\n",
    "decNUM_PMU = int.from_bytes(NUM_PMUread,'big')\n",
    "print('Numero de PMUs incluidos en el dataframe: {}'.format(decNUM_PMU))"
   ]
  },
  {
   "cell_type": "code",
   "execution_count": null,
   "metadata": {
    "ExecuteTime": {
     "end_time": "2020-02-28T00:12:39.186115Z",
     "start_time": "2020-02-28T00:12:34.087Z"
    }
   },
   "outputs": [],
   "source": [
    "########################################################\n",
    "#                     8 STN (16 bytes)                 #\n",
    "########################################################\n",
    "# Station Name—16 bytes in ASCII format.               #\n",
    "########################################################\n",
    "STNread = dframe[20:36]\n",
    "print('Station name: {}'.format(STNread))\n"
   ]
  },
  {
   "cell_type": "code",
   "execution_count": null,
   "metadata": {
    "ExecuteTime": {
     "end_time": "2020-02-28T00:12:39.187072Z",
     "start_time": "2020-02-28T00:12:34.089Z"
    }
   },
   "outputs": [],
   "source": [
    "##################################################################\n",
    "#                      9 IDCODE (2 bytes)                        #\n",
    "##################################################################\n",
    "# PMU ID number as above, identifies source of each data block.  #\n",
    "##################################################################\n",
    "#idcode de donde vienen los datos\n",
    "IDCODESRCread = dframe[36:38]\n",
    "decIDCODESRC = int.from_bytes(IDCODESRCread,'big')\n",
    "print('IDCODE de la fuente: {}'.format(decIDCODESRC))\n"
   ]
  },
  {
   "cell_type": "code",
   "execution_count": null,
   "metadata": {
    "ExecuteTime": {
     "end_time": "2020-02-28T00:12:39.191063Z",
     "start_time": "2020-02-28T00:12:34.094Z"
    }
   },
   "outputs": [],
   "source": [
    "###################################################################\n",
    "#                      10 FORMAT (2 bytes)                        #\n",
    "###################################################################\n",
    "# Data format within the data frame.                              #\n",
    "# Data format in data frames, 16-bit flag.                        #\n",
    "# Bits 15–4: Unused                                               #\n",
    "# Bit 3: 0 = FREQ/DFREQ 16-bit integer, 1 = floating point        #\n",
    "# Bit 2: 0 = analogs 16-bit integer, 1= floating point            #\n",
    "# Bit 1: 0 = phasors 16-bit integer, 1 = floating point           #\n",
    "# Bit 0: 0 = phasor real and imaginary (rectangular),             #\n",
    "# 1 = magnitude and angle (polar)                                 #\n",
    "###################################################################\n",
    "FORMATread = dframe[38:40]\n",
    "\n",
    "FRMTbit3 = (FORMATread[1] & 8) >> 3\n",
    "FRMTbit2 = (FORMATread[1] & 4) >> 2\n",
    "FRMTbit1 = (FORMATread[1] & 2) >> 1\n",
    "FRMTbit0 = (FORMATread[1] & 1)\n",
    "\n",
    "if FRMTbit3== 0:\n",
    "    print('FREQ/DFREQ format: integer')\n",
    "    \n",
    "elif FRMTbit3 ==1:\n",
    "    print('FREQ/DFREQ format: floating point')\n",
    "    \n",
    "if FRMTbit2 ==0:\n",
    "    print('Analog values format: integer')\n",
    "    \n",
    "elif FRMTbit2 ==1:\n",
    "    print('Analog values format: floating point')\n",
    "\n",
    "if FRMTbit1 ==0:\n",
    "    print('Phasor format: integer')\n",
    "    \n",
    "elif FRMTbit1 ==1:\n",
    "    print('Phasor format: floating point')\n",
    "    \n",
    "if FRMTbit2 ==0:\n",
    "    print('Phasor notation: rectangular')\n",
    "    \n",
    "elif FRMTbit2 ==1:\n",
    "    print('Phasor notation: polar')\n",
    "\n",
    "    "
   ]
  },
  {
   "cell_type": "code",
   "execution_count": null,
   "metadata": {
    "ExecuteTime": {
     "end_time": "2020-02-28T00:12:39.192059Z",
     "start_time": "2020-02-28T00:12:34.099Z"
    }
   },
   "outputs": [],
   "source": [
    "####################################################################\n",
    "#                   11 PHNMR (2 bytes)                             #\n",
    "####################################################################\n",
    "# Number of phasors—2-byte integer (0 to 32 767).                  #\n",
    "####################################################################\n",
    "PHNMRread = dframe[40:42]\n",
    "decPHNMR = int.from_bytes(PHNMRread,'big')\n",
    "print('Number of phasors: {}'.format(decPHNMR))\n"
   ]
  },
  {
   "cell_type": "code",
   "execution_count": null,
   "metadata": {
    "ExecuteTime": {
     "end_time": "2020-02-28T00:12:39.194055Z",
     "start_time": "2020-02-28T00:12:34.100Z"
    }
   },
   "outputs": [],
   "source": [
    "#####################################################################\n",
    "#                        12 ANMR (2 bytes)                          #\n",
    "#####################################################################\n",
    "# Number of analog values—2-byte integer.                           #\n",
    "#####################################################################\n",
    "ANNMRread = dframe[42:44]\n",
    "decANNMR = int.from_bytes(ANNMRread,'big')\n",
    "print('Number of analog values: {}'.format(decANNMR))"
   ]
  },
  {
   "cell_type": "code",
   "execution_count": null,
   "metadata": {
    "ExecuteTime": {
     "end_time": "2020-02-28T00:12:39.196050Z",
     "start_time": "2020-02-28T00:12:34.103Z"
    }
   },
   "outputs": [],
   "source": [
    "#########################################################\n",
    "#                 13 DGNMR (2 bytes)                    #\n",
    "#########################################################\n",
    "# Number of digital status words—2-byte integer.        #\n",
    "#########################################################\n",
    "DGNMRread = dframe[44:46]\n",
    "decDGNMR = int.from_bytes(DGNMRread,'big')\n",
    "print('Number of digital status words: {}'.format(decDGNMR))"
   ]
  },
  {
   "cell_type": "code",
   "execution_count": null,
   "metadata": {
    "ExecuteTime": {
     "end_time": "2020-02-28T00:12:39.198045Z",
     "start_time": "2020-02-28T00:12:34.105Z"
    }
   },
   "outputs": [],
   "source": [
    "###############################################################################\n",
    "#       14 CHNAM (16 × (PHNMR+ ANNMR +16 ×DGNMR))                             #\n",
    "###############################################################################\n",
    "# Phasor and channel names—16 bytes for each phasor, analog, and              #\n",
    "# each digital channel (16 channels in each digital word) in ASCII            #\n",
    "# format in the same order as they are transmitted. For digital channels,     #\n",
    "# the channel name order will be from the least significant to the most       #\n",
    "# significant. (The first name is for Bit 0 of the first 16-bit status word,  #\n",
    "# the second is for Bit 1, etc., up to Bit 15. If there is more than 1 digital#\n",
    "# status, the next name will apply to Bit 0 of the 2nd word and so on).       #\n",
    "###############################################################################\n",
    "nbytes_CHNAM = 16*(decPHNMR + decANNMR + (16*decDGNMR))\n",
    "CHNAMread = dframe[46:46+nbytes_CHNAM]\n",
    "#lista para hacer un slice de los nombres cada 16 bytes\n",
    "listslice = list(range(0, int(nbytes_CHNAM+16),16) )\n",
    "listCHNAM =[]\n",
    "for i in range(len(listslice)-1):\n",
    "    #lista completa de los nombres de los canales\n",
    "    listCHNAM.append(CHNAMread[listslice[i]:listslice[i+1]])\n",
    "#nombres de fasores\n",
    "PHASORNAMES = listCHNAM[0:decPHNMR]\n",
    "#nombre de valores analogicos\n",
    "ANALOGNAMES = listCHNAM[decPHNMR:decPHNMR+decANNMR]\n",
    "# digital status labels\n",
    "DIGITALLABELS = listCHNAM[decPHNMR+decANNMR:decPHNMR+decANNMR + decDGNMR*16]\n",
    "#imprimir nombres\n",
    "print('Phasor names:')\n",
    "for i in PHASORNAMES:\n",
    "    print(i)\n",
    "print('Analog values:')\n",
    "for i in ANALOGNAMES:\n",
    "    print(i)\n",
    "print ('Digital status labels')\n",
    "for i in DIGITALLABELS:\n",
    "    print(i)\n"
   ]
  },
  {
   "cell_type": "code",
   "execution_count": null,
   "metadata": {
    "ExecuteTime": {
     "end_time": "2020-02-28T00:12:39.199041Z",
     "start_time": "2020-02-28T00:12:34.110Z"
    }
   },
   "outputs": [],
   "source": [
    "##############################################################################################\n",
    "#               15 PHUNIT (4 × PHNMR)                                                        #\n",
    "##############################################################################################\n",
    "# Conversion factor for phasor channels. Four bytes for each phasor.                         #\n",
    "# Most significant byte: 0 = voltage; 1 = current.                                           #\n",
    "# Least significant bytes: An unsigned 24-bit word in 10 –5 V or amperes per bit to          #\n",
    "# scale 16-bit integer data. (If transmitted data is in floating-point format, this 24-bit   #\n",
    "# value should be ignored.)                                                                  #\n",
    "#############################################################################################\n",
    "#para no estar haciendo la suma, creo la variable PHUNITinitbyte\n",
    "#es el numero de byte del dframe donde empieza el PHUNIT\n",
    "numbytesPHUNIT = 4*decPHNMR\n",
    "PHUNITbegintbyte = 46+nbytes_CHNAM\n",
    "PHUNITendbyte = PHUNITbegintbyte + numbytesPHUNIT\n",
    "PHUNITread = dframe[PHUNITbegintbyte:PHUNITendbyte]\n",
    "listslice = list(range(0, int(numbytesPHUNIT+4),4) )#4 bytes en pasos de 4 bytes\n",
    "listPHUNIT = []\n",
    "for i in range(len(listslice)-1):\n",
    "    #lista completa los factores de conversion\n",
    "    listPHUNIT.append(PHUNITread[listslice[i]:listslice[i+1]])\n",
    "# convirtiendo los valores a texto\n",
    "for i in range(len(listPHUNIT)):\n",
    "    if listPHUNIT[i][0] == 0:\n",
    "        unit = 'Volt'\n",
    "    elif listPHUNIT[i][0] == 1:\n",
    "        unit = 'Ampere'\n",
    "    factor = int.from_bytes(listPHUNIT[i][1:4],'big')\n",
    "    print('#{} factor: {} * 10^-5, unit: {}'.format(i+1,factor,unit))"
   ]
  },
  {
   "cell_type": "code",
   "execution_count": null,
   "metadata": {
    "ExecuteTime": {
     "end_time": "2020-02-28T00:12:39.201036Z",
     "start_time": "2020-02-28T00:12:34.113Z"
    }
   },
   "outputs": [],
   "source": [
    "#####################################################################################\n",
    "#                                     16 ANUNIT (4XANNMR)                           #\n",
    "#####################################################################################\n",
    "# Conversion factor for analog channels. Four bytes for each analog value.          #\n",
    "# Most significant byte: 0 = single point-on-wave, 1 = rms of analog input,         #\n",
    "# 2 = peak of analog input, 5–64 = reserved for future definition; 65–255 = user    #\n",
    "# definable.                                                                        #\n",
    "# Least significant bytes: A signed 24-bit word, user-defined scaling.              #\n",
    "#####################################################################################\n",
    "numbytesANUNIT = 4*decANNMR\n",
    "ANUNITendbyte = PHUNITendbyte + numbytesPHUNIT\n",
    "ANUNITread = dframe[PHUNITendbyte:ANUNITendbyte]\n",
    "listslice = list(range(0, int(numbytesANUNIT+4),4) )#4 bytes en pasos de 4 bytes\n",
    "listANUNIT = []\n",
    "for i in range(len(listslice)-1):\n",
    "    #lista completa los factores de conversion\n",
    "    listANUNIT.append(ANUNITread[listslice[i]:listslice[i+1]])\n",
    "#convertir a texto\n",
    "for i in range(len(listANUNIT)):\n",
    "    if listANUNIT[i][0] == 0:\n",
    "        factor = 'single point-on-wave'\n",
    "    elif listANUNIT[i][0] == 1:\n",
    "        factor = 'rms of analog input'\n",
    "    elif listANUNIT[i][0] == 2:\n",
    "        factor = 'peak of analog input'\n",
    "    value = int.from_bytes(listANUNIT[i][1:4],'big')\n",
    "    print('Factor for analog value #{}: {}, value: {}'.format(i+1,factor,value))\n"
   ]
  },
  {
   "cell_type": "code",
   "execution_count": null,
   "metadata": {
    "ExecuteTime": {
     "end_time": "2020-02-28T00:12:39.202034Z",
     "start_time": "2020-02-28T00:12:34.115Z"
    }
   },
   "outputs": [],
   "source": [
    "############################################################################################\n",
    "#                                   17 DIGUNIT (4 X DGNMR)                                 #\n",
    "############################################################################################\n",
    "# Mask words for digital status words. Two 16-bit words are provided for each              #\n",
    "# digital word. The first will be used to indicate the normal status of the digital in-    #\n",
    "# puts by returning a 0 when exclusive ORed (XOR) with the status word. The                #\n",
    "# second will indicate the current valid inputs to the PMU by having a bit set in          #\n",
    "# the binary position corresponding to the digital input and all other bits set to 0.      #\n",
    "############################################################################################\n",
    "\n",
    "numbytesDIGUNIT = 4*decDGNMR\n",
    "DIGUNITendbyte = ANUNITendbyte + numbytesDIGUNIT\n",
    "DIGUNITread = dframe[ANUNITendbyte:DIGUNITendbyte]\n",
    "listslice = list(range(0, int(numbytesDIGUNIT+4),4) )#4 bytes en pasos de 4 bytes\n",
    "listDIGUNIT = []\n",
    "for i in range(len(listslice)-1):\n",
    "    #lista completa los factores de conversion\n",
    "    listDIGUNIT.append(DIGUNITread[listslice[i]:listslice[i+1]])\n"
   ]
  },
  {
   "cell_type": "code",
   "execution_count": null,
   "metadata": {
    "ExecuteTime": {
     "end_time": "2020-02-28T00:12:39.205028Z",
     "start_time": "2020-02-28T00:12:34.118Z"
    }
   },
   "outputs": [],
   "source": [
    "#########################################################\n",
    "#                18 FNOM (2 bytes)\n",
    "#########################################################\n",
    "# Nominal line frequency code (16-bit unsigned integer)\n",
    "# Bits 15–1: Reserved\n",
    "# Bit 0: 1: Fundamental frequency = 50 Hz\n",
    "# 0: Fundamental frequency = 60 Hz\n",
    "#########################################################\n",
    "FNOMendbyte = DIGUNITendbyte +2\n",
    "FNOMread = dframe[DIGUNITendbyte:FNOMendbyte]\n",
    "\n",
    "FNOMbit0 = FNOMread[0]  & 1\n",
    "if FNOMbit0 == 1:\n",
    "    decFNOM = 50\n",
    "elif FNOMbit0==0:\n",
    "    decFNOM = 60\n",
    "print('Nominal line frequency: {}'.format(decFNOM))\n"
   ]
  },
  {
   "cell_type": "code",
   "execution_count": null,
   "metadata": {
    "ExecuteTime": {
     "end_time": "2020-02-28T00:12:39.208017Z",
     "start_time": "2020-02-28T00:12:34.120Z"
    }
   },
   "outputs": [],
   "source": [
    "##########################################\n",
    "# 19 CFGCNT (2 bytes)\n",
    "################################################\n",
    "# Configuration change count is incremented each time a change is made in the\n",
    "# PMU configuration. 0 is the factory default and the initial value.\n",
    "######################################################################\n",
    "CFGCNTendbyte = FNOMendbyte +2\n",
    "CFGCNTread = dframe[FNOMendbyte:CFGCNTendbyte]\n",
    "decCFGCNT = int.from_bytes(CFGCNTread,'big')\n",
    "\n",
    "print('Configuration change count: {}'.format(decCFGCNT))\n"
   ]
  },
  {
   "cell_type": "code",
   "execution_count": null,
   "metadata": {
    "ExecuteTime": {
     "end_time": "2020-02-28T00:12:39.210012Z",
     "start_time": "2020-02-28T00:12:34.122Z"
    }
   },
   "outputs": [],
   "source": [
    "#como es un solo pmu me salto la parte de \n",
    "#Fields 8–18, repeated for as many PMUs as in field 7 (NUM_PMU).\"repeat 8-19\"\n",
    "#######################################################\n",
    "# 20+ DATA_RATE (2 bytes)\n",
    "####################################################\n",
    "# Rate of phasor data transmissions—2-byte integer word (–32 767 to +32 767)\n",
    "# If DATA_RATE > 0, rate is number of frames per second.\n",
    "# If DATA_RATE < 0, rate is negative of seconds per frame.\n",
    "# For example: DATA_RATE = 15 is 15 frames per second and DATA_RATE =\n",
    "# –5 is 1 frame per 5 s.\n",
    "####################################################################################\n",
    "DATA_RATEendbyte = CFGCNTendbyte + 2\n",
    "DATA_RATEread = dframe[CFGCNTendbyte:DATA_RATEendbyte]\n",
    "decDATA_RATE = int.from_bytes(DATA_RATEread,'big')\n",
    "if decDATA_RATE  > 0:\n",
    "    print('{} frame(s) per second'.format(decDATA_RATE))\n",
    "elif decDATA_RATE < 0:\n",
    "    print('1 frame per {} seconds'.format(decDATA_RATE))\n",
    "assert decDATA_RATE !=0, 'DATA_RATE cannot be zero'\n"
   ]
  },
  {
   "cell_type": "code",
   "execution_count": null,
   "metadata": {
    "ExecuteTime": {
     "end_time": "2020-02-28T00:12:39.211012Z",
     "start_time": "2020-02-28T00:12:34.123Z"
    }
   },
   "outputs": [],
   "source": [
    "######################################################\n",
    "#                  21+ CHK (2 bytes)                 #\n",
    "#####################################################\n",
    "# CRC-CCITTT\n",
    "#####################################################\n",
    "CHKendbyte = DATA_RATEendbyte + 2\n",
    "CHKread = dframe[DATA_RATEendbyte:CHKendbyte]\n",
    "decCHK = int.from_bytes(CHKread,'big')\n",
    "print('CRC: {}'.format(hex(decCHK)))"
   ]
  },
  {
   "cell_type": "code",
   "execution_count": null,
   "metadata": {
    "ExecuteTime": {
     "end_time": "2020-02-28T00:12:39.213005Z",
     "start_time": "2020-02-28T00:12:34.127Z"
    }
   },
   "outputs": [],
   "source": [
    "#calcular el crc del mensaje recibido y comparado\n",
    "#con los ultimos dos bytes del mensaje recibido (CHK)\n",
    "#si son iguales, el mensaje llego sin errores\n",
    "\n",
    "#:-2 porque los ultimos bytes son el numero crc\n",
    "[_,_,crccalc] =get_CRC(dframe[:-2])\n",
    "if crccalc==decCHK:\n",
    "    print('CRC Ok!')\n",
    "else:\n",
    "    print('Error CRC')"
   ]
  }
 ],
 "metadata": {
  "hide_input": false,
  "kernelspec": {
   "display_name": "Python 3",
   "language": "python",
   "name": "python3"
  },
  "language_info": {
   "codemirror_mode": {
    "name": "ipython",
    "version": 3
   },
   "file_extension": ".py",
   "mimetype": "text/x-python",
   "name": "python",
   "nbconvert_exporter": "python",
   "pygments_lexer": "ipython3",
   "version": "3.6.7"
  }
 },
 "nbformat": 4,
 "nbformat_minor": 2
}
