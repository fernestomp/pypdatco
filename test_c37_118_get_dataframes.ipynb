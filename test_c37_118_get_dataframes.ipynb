{
 "cells": [
  {
   "cell_type": "code",
   "execution_count": null,
   "metadata": {},
   "outputs": [],
   "source": [
    "'''\n",
    "'''"
   ]
  },
  {
   "cell_type": "code",
   "execution_count": 190,
   "metadata": {
    "ExecuteTime": {
     "end_time": "2020-02-27T23:29:15.898743Z",
     "start_time": "2020-02-27T23:29:15.893756Z"
    }
   },
   "outputs": [],
   "source": [
    "import socket\n",
    "import copy\n",
    "import time\n",
    "import math\n",
    "import crcmod #change for own implementation"
   ]
  },
  {
   "cell_type": "markdown",
   "metadata": {},
   "source": [
    "#  Functions"
   ]
  },
  {
   "cell_type": "code",
   "execution_count": 191,
   "metadata": {
    "ExecuteTime": {
     "end_time": "2020-02-27T23:29:15.905734Z",
     "start_time": "2020-02-27T23:29:15.901735Z"
    }
   },
   "outputs": [],
   "source": [
    "def get_CRC(mess):\n",
    "    #ver la tabla del modulo crcmod para ver porque es 0x11021 y demas\n",
    "    #g(x)=x^16+x^12+x^5+1 -- > 0x11021--> 10001000000100001b\n",
    "    crc16_func = crcmod.mkCrcFun(0x11021, initCrc=0xFFFF, xorOut=0x0000,rev=False)\n",
    "    crc16val = crc16_func(mess)#valor de crc16\n",
    "    crcbyte1 = (crc16val & 65280) >>8\n",
    "    crcbyte2 = crc16val & 255\n",
    "    return crcbyte1,crcbyte2,crc16val\n"
   ]
  },
  {
   "cell_type": "markdown",
   "metadata": {},
   "source": [
    "# Read data"
   ]
  },
  {
   "cell_type": "markdown",
   "metadata": {},
   "source": [
    "## PMU parameters"
   ]
  },
  {
   "cell_type": "code",
   "execution_count": 192,
   "metadata": {
    "ExecuteTime": {
     "end_time": "2020-02-27T23:29:15.913415Z",
     "start_time": "2020-02-27T23:29:15.908718Z"
    }
   },
   "outputs": [],
   "source": [
    "#idcode de la PMU\n",
    "idcode=1\n",
    "tcpip= \"10.10.200.22\"\n",
    "tcpport = 4712\n",
    "buffersize= 2048\n"
   ]
  },
  {
   "cell_type": "markdown",
   "metadata": {},
   "source": [
    "## Ask for configuration frame"
   ]
  },
  {
   "cell_type": "code",
   "execution_count": 193,
   "metadata": {
    "ExecuteTime": {
     "end_time": "2020-02-27T23:29:15.949965Z",
     "start_time": "2020-02-27T23:29:15.916370Z"
    }
   },
   "outputs": [
    {
     "name": "stdout",
     "output_type": "stream",
     "text": [
      "Received raw configuration frame:\n",
      "b'\\xaa1\\x02z\\x00\\x01\\x00\\x00\\\\\\xa6\\x0f\\x0fB@\\x00\\x98\\x96\\x80\\x00\\x01NI STATION      \\x00\\x01\\x00\\x0f\\x00\\x08\\x00\\x08\\x00\\x01V2+             VA2             IA2             VB2             IB2             VC2             IC2             IN2             P1              S1              Q1              PF1             P2              S2              Q2              PF2             DI0             DI1             DI2             DI3             DI4             DI5             DI6             DI7                                                                                                                                             \\x00\\x00\\x00\\x00\\x00\\x00\\x00\\x00\\x01\\x00\\x00\\x00\\x00\\x00\\x00\\x00\\x01\\x00\\x00\\x00\\x00\\x00\\x00\\x00\\x01\\x00\\x00\\x00\\x01\\x00\\x00\\x00\\x00\\x00\\x00\\x00\\x00\\x00\\x00\\x00\\x00\\x00\\x00\\x00\\x00\\x00\\x00\\x00\\x00\\x00\\x00\\x00\\x00\\x00\\x00\\x00\\x00\\x00\\x00\\x00\\x00\\x00\\x00\\x00\\x00\\x00\\x00\\x00\\x00\\x00\\x00\\x00\\x00\\n\\x07\\xdf'\n"
     ]
    }
   ],
   "source": [
    "#if you use wireshark, you need to ask first for the cfg2 frame\n",
    "#and mantain the socket connection open. wireshark uses this information\n",
    "# to decode the dataframes\n",
    "#send get cfg2 command\n",
    "# 1 field SYNC \n",
    "field1_1 = 170#AA.\n",
    "field1_2 = 65 #0-reservado100-data frame comando0001-2005\n",
    "#2 FRAMESIZE\n",
    "field2_1 =0  #el tamaño siempre es 18 incluyendo los dos bits del CHK\n",
    "field2_2=18\n",
    "# 3 field IDCODE\n",
    "#dividir en dos bytes y hacer un bitshift 8 lugares a la derecha\n",
    "field3_1 = idcode >> 8 \n",
    "field3_2 = idcode & 255 #quedaria 00000001 para un idcode=1\n",
    "#4 SOC\n",
    "#send unix time\n",
    "PCtime = time.time()\n",
    "t =int(PCtime).to_bytes(4,'big')\n",
    "field4_1 =t[0]\n",
    "field4_2 =t[1]\n",
    "field4_3 =t[2]\n",
    "field4_4 =t[3]\n",
    "#5 FRACSEC\n",
    "#fmod:get fractional part,\n",
    "#round: to convert fractional part to 3 bytes (precision is lost)\n",
    "#str:to do slicing and remove \"0.\" part\n",
    "#int to_bytes: list of 3 bytes of the fractional part\n",
    "fsec = int(str(round(math.fmod(PCtime,1),7))[2:]).to_bytes(3,'big')\n",
    "field5_1 =0 #time quality flags, ignore leap seconds\n",
    "field5_2 =fsec[0]\n",
    "field5_3 =fsec[1]\n",
    "field5_4 =fsec[2]\n",
    "#6 CMD\n",
    "field6_1 = 0 #primer byte es cero\n",
    "field6_2= 5 #00000101- comandoget CFG2\n",
    "#7 EXTFRAME no se usa\n",
    "#8 CHK\n",
    "#mensajae sin CHK\n",
    "messnoCHK = [field1_1 , field1_2,\n",
    "    field2_1,field2_2,\n",
    "    field3_1, field3_2,\n",
    "    field4_1, field4_2, field4_3, field4_4,\n",
    "    field5_1, field5_2, field5_3, field5_4,\n",
    "    field6_1, field6_2]\n",
    "\n",
    "[crcbyte1,crcbyte2,crc_16] = get_CRC(bytearray(messnoCHK));\n",
    "#mensaje con los datos del CFG2 que seran enviados\n",
    "message = messnoCHK.copy()\n",
    "message.append(crcbyte1)\n",
    "message.append(crcbyte2)\n",
    "message_bytearr = bytearray(message)\n",
    "s = socket.socket(socket.AF_INET, socket.SOCK_STREAM)\n",
    "s.settimeout(5)\n",
    "s.connect((tcpip, tcpport))\n",
    "s.send(message_bytearr)\n",
    "data = s.recv(buffersize)\n",
    "\n",
    "print('Received raw configuration frame:')\n",
    "print (data)\n",
    "#print every byte received with the byte number and binary format\n",
    "#print('Datos en forma de lista:')\n",
    "#for i,d in enumerate(list(data)):\n",
    "#    print('byte {} - {} - {} - {}'.format(i,d, bin(d),chr(data[i])))"
   ]
  },
  {
   "cell_type": "markdown",
   "metadata": {},
   "source": [
    "## Send read data command"
   ]
  },
  {
   "cell_type": "code",
   "execution_count": 194,
   "metadata": {
    "ExecuteTime": {
     "end_time": "2020-02-27T23:29:17.035207Z",
     "start_time": "2020-02-27T23:29:15.952958Z"
    }
   },
   "outputs": [
    {
     "name": "stdout",
     "output_type": "stream",
     "text": [
      "Framesize: 124, length of dataframe: 124\n",
      "b'\\xaa\\x01\\x00|\\x00\\x01\\x00\\x00\\\\\\xa6\\x0f-\\xc6\\xc0!\\xb0=TH\\xa4?\\x08\\xbd\\x85>\\x1ed`?\\x0bU\\x8c;\\x94\\xb8\\x00\\xc0%\\xcez:\\xdf\\xc0\\x00\\xc0%\\x14\\xc1;\\xaf\\xa0\\x00\\xc0%\\x80\\xc29\\x14\\xc0\\x00>\\xd3q\\x0f;7\\x00\\x00\\xc0%0\\xc2:\\xb5\\x10\\x00?\\x02e\\xb5BrU-@\\xa9.\\xe02\\x98\\xf4x4k5\\xc2\\xb4jn\\x7f=\\xa6yz\\xba5\\xbb\\x07:5\\xbc\\x1e6\\x9f=x\\xbf\\x7f\\xfew\\x00\\xffw\\x16'\n",
      "Dataframe number: 1\n",
      "------------------------------------------------------------\n",
      "Framesize: 124, length of dataframe: 124\n",
      "b'\\xaa\\x01\\x00|\\x00\\x01\\x00\\x00\\\\\\xa6\\x0f=\\t\\x00!\\xb0=T3E?\\x0e\\x1b=>\\x1eT\\xa0?\\x10\\xb3p;\\x94\\x8c\\x00\\xc0$uI:\\xdf\\xc8\\x00\\xc0#\\xc1I;\\xaf\\xd0\\x00\\xc0$-I9\\x14\\xc0\\x00>\\xdal\\xd5;6\\xf8\\x00\\xc0#\\xd1H:\\xb3\\xf0\\x01?\\x08\\x03\\x9bBm\\x08\\x07\\xc0\\xb9\\x00j4\\xe5\\xdd\\xaf5\\x02FE\\xb4uU\\xfa?a\\xdaI\\xba5q\\x7f:5r\\x9f6\\xa1\\x92\\x82\\xbf\\x7f\\xfej\\x00\\xffB\\xa0'\n",
      "Dataframe number: 2\n",
      "------------------------------------------------------------\n",
      "Framesize: 124, length of dataframe: 124\n",
      "b'\\xaa\\x01\\x00|\\x00\\x01\\x00\\x00\\\\\\xa6\\x0fLK@!\\xb0=T\\\\\\x91>\\xf9\\x01\\xa3>\\x1et >\\xfe-\\xb4;\\x94\\x98\\x00\\xc0(\\xde(:\\xdfP\\x01\\xc0(\"(;\\xaf\\x90\\x01\\xc0(\\x92(9\\x14\\xc0\\x00>\\xb4\\x15\\xf1;6\\xb8\\x00\\xc0(:\\':\\xb3\\xa0\\x00>\\xedp\\x08BrT\\x95@\\xa8\\xf1\\x054\\xc7\\xafj4\\xc8\\x89\\x14\\xb3\\x13\\x93L?~\\xea\"\\xba5\\xa7\\t:5\\xa8!6\\x9fh\\xed\\xbf\\x7f\\xfeu\\x00\\xff\\xcd\\xfb'\n",
      "Dataframe number: 3\n",
      "------------------------------------------------------------\n",
      "Framesize: 124, length of dataframe: 124\n",
      "b'\\xaa\\x01\\x00|\\x00\\x01\\x00\\x00\\\\\\xa6\\x0f[\\x8d\\x80!\\xb0=T7\\x0e? \\x84\\xb9>\\x1eX\\x90?#\\x1eo;\\x94\\xa0\\x00\\xc0\\x1f\\xd6@:\\xdf\\xc0\\x00\\xc0\\x1f6\\x89;\\xaf\\xa0\\x00\\xc0\\x1f\\x98\\x899\\x19\\x00\\x00>\\xfer\\xe7;7\\x18\\x00\\xc0\\x1fN\\x8a:\\xb3\\xd0\\x00?\\x1a\\xc6\\x9fBp\\\\\\xc1A\\x9e\\x95\\x193D\\xbbF4\\xb7\\xf1\\xa24\\xb6J\\xec>\\x08\\xe6\\x03\\xba5\\x90::5\\x91o6\\xa7\\xb1\\xc3\\xbf\\x7f\\xfeL\\x00\\xffwT'\n",
      "Dataframe number: 4\n",
      "------------------------------------------------------------\n",
      "Framesize: 124, length of dataframe: 124\n",
      "b'\\xaa\\x01\\x00|\\x00\\x01\\x00\\x00\\\\\\xa6\\x0fj\\xcf\\xc0!\\xb0=T\"\\xb2>\\xe7\\x0b\\xea>\\x1eH\\xd0>\\xec:\\xf7;\\x94\\x8c\\x00\\xc0+\\n\\x7f:\\xdf0\\x00\\xc0*Z\\x87;\\xaf\\x84\\x00\\xc0*\\xc8\\x7f9\\x17\\x80\\x00>\\xa7\\x939;6\\xff\\xff\\xc0*r\\x7f:\\xb4`\\x00>\\xda\\xedRBrP\\xe7@\\xa9\\x81\\xe9\\xb3\\x07V\\x143\\x15\\x9b\\xd7\\xb2\\x7f\\x16\\xa0\\xbfg\\x93\\xf0\\xba5f\\xa0:5h\\x196\\xb8\\xe5\\\\\\xbf\\x7f\\xfd\\xec\\x00\\xff\\x836'\n",
      "Dataframe number: 5\n",
      "------------------------------------------------------------\n",
      "Framesize: 124, length of dataframe: 124\n",
      "b'\\xaa\\x01\\x00|\\x00\\x01\\x00\\x00\\\\\\xa6\\x0fz\\x12\\x00!\\xb0=T3\\xa3?(\\xa3\\xc6>\\x1eT\\xa0?+:\\xbd;\\x94\\xa0\\x00\\xc0\\x1d\\xc1.:\\xdf8\\x00\\xc0\\x1d\\x11-;\\xaf\\x84\\x00\\xc0\\x1d\\x83-9\\x14\\xc0\\x00?\\x0cM\\xba;7 \\x00\\xc0\\x1d=.:\\xb3\\xb0\\x00?#\\x1b\\xe9BrT\\xe8@\\xa9\\xccU4\\xcf\\x04\\x045\\x02\\xbb]\\xb4\\x9f\\xb60?J\\xb0\\x91\\xba5\\x8c\\x87:5\\x8e\\x0b6\\xbb\\xc4_\\xbf\\x7f\\xfd\\xdd\\x00\\xff\\x9b\\xd1'\n",
      "Dataframe number: 6\n",
      "------------------------------------------------------------\n",
      "Framesize: 124, length of dataframe: 124\n",
      "b'\\xaa\\x01\\x00|\\x00\\x01\\x00\\x00\\\\\\xa6\\x0f\\x89T@!\\xb0=T\\x19^?\"!\\xda>\\x1e@\\xf0?$\\xba~;\\x94\\xac\\x00\\xc0\\x1fi\\x86:\\xdf\\xaf\\xff\\xc0\\x1e\\xb9\\x87;\\xaf\\xa8\\x01\\xc0\\x1f)\\x879\\x15@\\x00?\\x03\\xcdz;6\\xf8\\x00\\xc0\\x1e\\xd5\\x87:\\xb4\\x90\\x00?\\x1cz\\xa8Bp\\xde<B\\x8dm\\xc54\\xd3\\xdb\\xa54\\xe4;\\xde\\xb4)\\xc9m?m\\xa1\\xc4\\xba5\\x82\\xf1:5\\x84F6\\xaf\\xec\\x84\\xbf\\x7f\\xfe\\x1f\\x00\\xff_\\xd5'\n",
      "Dataframe number: 7\n",
      "------------------------------------------------------------\n",
      "Framesize: 124, length of dataframe: 124\n",
      "b'\\xaa\\x01\\x00|\\x00\\x01\\x00\\x00\\\\\\xa7\\x0f\\x00\\x00\\x00!\\xb0=Tq\\xed?)\\x9a\\xf3>\\x1e\\x83\\xe0?,0h;\\x94\\xbc\\x00\\xc0\\x1d\\x89\\xc4:\\xdf@\\x00\\xc0\\x1c\\xd5\\xc3;\\xaf\\x90\\x00\\xc0\\x1dA\\xc29\\x14@\\x00?\\x08,\\x8c;7\\x10\\x01\\xc0\\x1c\\xe9\\xc4:\\xb4\\xb0\\x00?$9\\x96Bp\\xe6\\xbbB\\x88\\xe5\\xcb4\\xab\\xd9z4\\xac\\xbfO3\\x0c\\xb6^?~\\xabg\\xba5\\xe5\\xc4:5\\xe7&6\\xb3\\xa4a\\xbf\\x7f\\xfe\\x0e\\x00\\xff|7'\n",
      "Dataframe number: 8\n",
      "------------------------------------------------------------\n",
      "Framesize: 124, length of dataframe: 124\n",
      "b\"\\xaa\\x01\\x00|\\x00\\x01\\x00\\x00\\\\\\xa7\\x0f\\x0fB@!\\xb0=T.f?'=~>\\x1eP\\xb0?)\\xd5*;\\x94\\xbc\\x00\\xc0\\x1e\\x1e\\x92:\\xdf\\xa8\\x00\\xc0\\x1dv\\x9b;\\xaf\\xcc\\x00\\xc0\\x1d\\xd6\\x929\\x13\\x80\\x00?\\x07\\xd9O;7p\\x01\\xc0\\x1d\\x96\\x9c:\\xb3\\xe0\\x00?!\\xc6WBp^\\x13A\\x9c%\\x9e4\\xc87\\xb85\\x01\\x94\\n4\\xa4\\x8b}?E\\xc7k\\xba5\\xa8E:5\\xa9\\xb16\\xb5\\xf5!\\xbf\\x7f\\xfd\\xff\\x00\\xff\\xd3\\xc5\"\n",
      "Dataframe number: 9\n",
      "------------------------------------------------------------\n",
      "Framesize: 124, length of dataframe: 124\n",
      "b'\\xaa\\x01\\x00|\\x00\\x01\\x00\\x00\\\\\\xa7\\x0f\\x1e\\x84\\x80!\\xb0=TL\\x82?\\x119&>\\x1ehP?\\x13\\xd0.;\\x94`\\x00\\xc0#\\x9f\\xd0:\\xdf/\\xff\\xc0\"\\xe7\\xd1;\\xaf\\xb0\\x00\\xc0#]\\xd19\\x18\\x80\\x00>\\xe0\\xc6\\xa0;6\\xe8\\x00\\xc0#\\x1b\\xd2:\\xb4p\\x00?\\x0bP\\\\Bl\\xe3W\\xc0\\x88Ya4n\\x08l4\\xe3Cf4\\xc1\\x9bf?\\x06\\x10\\xd2\\xba5TT:5U\\xc36\\xb6+\\xe5\\xbf\\x7f\\xfd\\xfa\\x00\\xff`o'\n",
      "Dataframe number: 10\n",
      "------------------------------------------------------------\n"
     ]
    }
   ],
   "source": [
    "\n",
    "#Send turn on transmission of data frames and read 10 dataframes\n",
    "# 1 field SYNC \n",
    "field1_1 = 170#AA.\n",
    "field1_2 = 65 #0-reservado100-data frame comando0001-2005\n",
    "#2 FRAMESIZE\n",
    "#it's always 18 because im not using the EXTFRAME data (table 12-command frame configuration)\n",
    "field2_1 =0  \n",
    "field2_2=18\n",
    "# 3 field IDCODE\n",
    "#dividir en dos bytes y hacer un bitshift 8 lugares a la derecha\n",
    "field3_1 = idcode >> 8 \n",
    "field3_2 = idcode & 255 #quedaria 00000001 para un idcode=1\n",
    "#4 SOC\n",
    "#send unix time\n",
    "PCtime = time.time()\n",
    "t =int(PCtime).to_bytes(4,'big')\n",
    "field4_1 =t[0]\n",
    "field4_2 =t[1]\n",
    "field4_3 =t[2]\n",
    "field4_4 =t[3]\n",
    "#5 FRACSEC\n",
    "#fmod:get fractional part,\n",
    "#round: to convert fractional part to 3 bytes (precision is lost)\n",
    "#str:to do slicing and remove \"0.\" part\n",
    "#int to_bytes: list of 3 bytes of the fractional part\n",
    "fsec = int(str(round(math.fmod(PCtime,1),7))[2:]).to_bytes(3,'big')\n",
    "field5_1 =0 #time quality flags, ignore leap seconds\n",
    "field5_2 =fsec[0]\n",
    "field5_3 =fsec[1]\n",
    "field5_4 =fsec[2]\n",
    "#6 CMD\n",
    "#0010 -turn on transmission of data frames.\n",
    "field6_1 = 0 #first byte is zero\n",
    "field6_2= 2\n",
    "#7 EXTFRAME no se usa\n",
    "#8 CHK\n",
    "#mensajae sin CHK\n",
    "messnoCHK = [field1_1 , field1_2,\n",
    "    field2_1,field2_2,\n",
    "    field3_1, field3_2,\n",
    "    field4_1, field4_2, field4_3, field4_4,\n",
    "    field5_1, field5_2, field5_3, field5_4,\n",
    "    field6_1, field6_2]\n",
    "\n",
    "[crcbyte1,crcbyte2,crc_16] = get_CRC(bytearray(messnoCHK));\n",
    "#mensaje con los datos del CFG2 que seran enviados\n",
    "message = messnoCHK.copy()\n",
    "message.append(crcbyte1)\n",
    "message.append(crcbyte2)\n",
    "message_bytearr = bytearray(message)\n",
    "s.send(message_bytearr)\n"
   ]
  },
  {
   "cell_type": "code",
   "execution_count": null,
   "metadata": {},
   "outputs": [],
   "source": [
    "#read  measurements 10 times\n",
    "#this code is not optimal, n frames per second are expected\n",
    "#is only for testing purposes, data could be lost or superimposed\n",
    "n= 0\n",
    "dataframenumber = 0 #counter for dataframes\n",
    "while n  < 10:\n",
    "    #can only recieve 4096 bytes\n",
    "    #maybe i should use a function that can get me \n",
    "    #the numbers of bytes before using the recv function\n",
    "    data = s.recv(4096)\n",
    "    #check if first byte is AA (begining of the dataframe)\n",
    "    if data[:1].hex() =='aa':\n",
    "        #get the framesize\n",
    "        framesizebytes  = data[2:4]\n",
    "        framesize = int.from_bytes(framesizebytes,'big')\n",
    "        #the dataframes could be superimposed, so i get the framesize and\n",
    "        #divide the data into n framesize strings\n",
    "        #split data in chunks of framsize\n",
    "        if len(data) > framesize:\n",
    "            datachunks = [data[i:i+n] for i in range(0, len(data), framesize)]\n",
    "            for d in datachunks:\n",
    "                print('Framesize: {}, length of dataframe: {}'.format(framesize,len(d)))\n",
    "                print(d)\n",
    "                dataframenumber +=1\n",
    "        else: #no superimposed dataframes\n",
    "            print('Framesize: {}, length of dataframe: {}'.format(framesize,len(data)))\n",
    "            print(data)\n",
    "            dataframenumber +=1\n",
    "        print('Dataframe number: {}'.format(dataframenumber))\n",
    "        print('------------------------------------------------------------')\n",
    "\n",
    "    \n",
    "#     print(len(data))\n",
    "#     print('-----------------------------------------------------------------')\n",
    "#     print(data.hex().upper())\n",
    "    \n",
    "\n",
    "    n=n+1\n",
    "    \n",
    "#have to execute next cell to close socket"
   ]
  },
  {
   "cell_type": "markdown",
   "metadata": {},
   "source": [
    "##  send command to turn off transmission (have to execute to close connection)\n"
   ]
  },
  {
   "cell_type": "code",
   "execution_count": 195,
   "metadata": {
    "ExecuteTime": {
     "end_time": "2020-02-27T23:29:17.051167Z",
     "start_time": "2020-02-27T23:29:17.038197Z"
    }
   },
   "outputs": [],
   "source": [
    "\n",
    "    \n",
    "\n",
    "#Send turn on transmission of data frames and read 10 dataframes\n",
    "# 1 field SYNC \n",
    "field1_1 = 170#AA.\n",
    "field1_2 = 65 #0-reservado100-data frame comando0001-2005\n",
    "#2 FRAMESIZE\n",
    "#it's always 18 because im not using the EXTFRAME data (table 12-command frame configuration)\n",
    "field2_1 =0  \n",
    "field2_2=18\n",
    "# 3 field IDCODE\n",
    "#dividir en dos bytes y hacer un bitshift 8 lugares a la derecha\n",
    "field3_1 = idcode >> 8 \n",
    "field3_2 = idcode & 255 #quedaria 00000001 para un idcode=1\n",
    "#4 SOC\n",
    "#send unix time\n",
    "PCtime = time.time()\n",
    "t =int(PCtime).to_bytes(4,'big')\n",
    "field4_1 =t[0]\n",
    "field4_2 =t[1]\n",
    "field4_3 =t[2]\n",
    "field4_4 =t[3]\n",
    "#5 FRACSEC\n",
    "#fmod:get fractional part,\n",
    "#round: to convert fractional part to 3 bytes (precision is lost)\n",
    "#str:to do slicing and remove \"0.\" part\n",
    "#int to_bytes: list of 3 bytes of the fractional part\n",
    "fsec = int(str(round(math.fmod(PCtime,1),7))[2:]).to_bytes(3,'big')\n",
    "field5_1 =0 #time quality flags, ignore leap seconds\n",
    "field5_2 =fsec[0]\n",
    "field5_3 =fsec[1]\n",
    "field5_4 =fsec[2]\n",
    "#6 CMD\n",
    "#0010 -turn off transmission of data frames.\n",
    "field6_1 = 0 #first byte is zero\n",
    "field6_2= 1\n",
    "#7 EXTFRAME no se usa\n",
    "#8 CHK\n",
    "#mensajae sin CHK\n",
    "messnoCHK = [field1_1 , field1_2,\n",
    "    field2_1,field2_2,\n",
    "    field3_1, field3_2,\n",
    "    field4_1, field4_2, field4_3, field4_4,\n",
    "    field5_1, field5_2, field5_3, field5_4,\n",
    "    field6_1, field6_2]\n",
    "\n",
    "[crcbyte1,crcbyte2,crc_16] = get_CRC(bytearray(messnoCHK));\n",
    "#mensaje con los datos del CFG2 que seran enviados\n",
    "message = messnoCHK.copy()\n",
    "message.append(crcbyte1)\n",
    "message.append(crcbyte2)\n",
    "message_bytearr = bytearray(message)\n",
    "\n",
    "s.close()"
   ]
  },
  {
   "cell_type": "code",
   "execution_count": null,
   "metadata": {
    "ExecuteTime": {
     "end_time": "2020-02-27T22:59:33.008933Z",
     "start_time": "2020-02-27T22:59:33.003946Z"
    }
   },
   "outputs": [],
   "source": []
  }
 ],
 "metadata": {
  "hide_input": false,
  "kernelspec": {
   "display_name": "Python 3",
   "language": "python",
   "name": "python3"
  },
  "language_info": {
   "codemirror_mode": {
    "name": "ipython",
    "version": 3
   },
   "file_extension": ".py",
   "mimetype": "text/x-python",
   "name": "python",
   "nbconvert_exporter": "python",
   "pygments_lexer": "ipython3",
   "version": "3.6.7"
  }
 },
 "nbformat": 4,
 "nbformat_minor": 2
}
