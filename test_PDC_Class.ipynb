{
 "cells": [
  {
   "cell_type": "code",
   "execution_count": 1,
   "metadata": {
    "collapsed": true
   },
   "outputs": [],
   "source": [
    "from class_PDC import PDC\n",
    "import matplotlib.pyplot as plt\n",
    "import pandas as pd\n",
    "from pandas.plotting import register_matplotlib_converters\n",
    "register_matplotlib_converters()\n",
    "from drawnow import drawnow\n",
    "import importlib\n"
   ]
  },
  {
   "cell_type": "code",
   "execution_count": 2,
   "outputs": [
    {
     "name": "stdout",
     "output_type": "stream",
     "text": [
      "=========================================\n",
      "TIME: 2023-02-25 01:51:04\n",
      "=========================================\n",
      "STATION NAME:OPPMU_WTPARK    \n",
      "-------------------------------\n",
      "PHASOR1_MAG:67248.3828125\n",
      "PHASOR2_MAG:67248.3828125\n",
      "PHASOR3_MAG:67248.3828125\n",
      "PHASOR4_MAG:70.6937255859375\n",
      "PHASOR5_MAG:70.6937255859375\n",
      "PHASOR6_MAG:70.6937255859375\n",
      "\n",
      "\n",
      "STATION NAME:OPPMU_GPO_G2    \n",
      "-------------------------------\n",
      "PHASOR1_MAG:8144.044921875\n",
      "PHASOR2_MAG:8144.044921875\n",
      "PHASOR3_MAG:8144.044921875\n",
      "PHASOR4_MAG:583.4639282226562\n",
      "PHASOR5_MAG:583.4639282226562\n",
      "PHASOR6_MAG:583.4639282226562\n",
      "\n",
      "\n",
      "STATION NAME:OPPMU_GPO_G1    \n",
      "-------------------------------\n",
      "PHASOR1_MAG:8203.4619140625\n",
      "PHASOR2_MAG:8203.4619140625\n",
      "PHASOR3_MAG:8203.4619140625\n",
      "PHASOR4_MAG:1196.002197265625\n",
      "PHASOR5_MAG:1196.002197265625\n",
      "PHASOR6_MAG:1196.002197265625\n",
      "\n",
      "\n"
     ]
    }
   ],
   "source": [
    "#print dataframe dict\n",
    "p = PDC(\"192.168.10.120\",port=5714)\n",
    "p.connect()\n",
    "df=pd.DataFrame()\n",
    "for i in range(1):\n",
    "    df = pd.concat([df,p.read_dataframes()],ignore_index=True)\n",
    "\n",
    "    num_pmus = len(df)\n",
    "    time_r = df['TIME'].values[i]\n",
    "    fracsec_r = df['FRACSEC'][i]\n",
    "    print('=========================================')\n",
    "    print('TIME: {}'.format(time_r,str(fracsec_r)[2:]))\n",
    "    print('=========================================')\n",
    "    for i in range(num_pmus):\n",
    "        stn_r =  df['STN'].values[i]\n",
    "        print('STATION NAME:{}'.format(stn_r))\n",
    "        print('-------------------------------')\n",
    "        mag_cols =[col for col in df.columns if 'MAG' in col]\n",
    "        for c in mag_cols:\n",
    "            print('{}:{}'.format(c,df[c].values[i]))\n",
    "        print('\\n')\n",
    "        \n",
    "\n",
    "    #print(df)\n",
    "    #print('++++++++++++++++++++++++++++++')\n",
    "\n",
    "p.disconnect()\n",
    "#for keys,values in d.items():\n",
    "#    print(' {}: {}'.format( keys,values))\n"
   ],
   "metadata": {
    "collapsed": false
   }
  }
 ],
 "metadata": {
  "kernelspec": {
   "display_name": "Python 3",
   "language": "python",
   "name": "python3"
  },
  "language_info": {
   "codemirror_mode": {
    "name": "ipython",
    "version": 2
   },
   "file_extension": ".py",
   "mimetype": "text/x-python",
   "name": "python",
   "nbconvert_exporter": "python",
   "pygments_lexer": "ipython2",
   "version": "2.7.6"
  }
 },
 "nbformat": 4,
 "nbformat_minor": 0
}
