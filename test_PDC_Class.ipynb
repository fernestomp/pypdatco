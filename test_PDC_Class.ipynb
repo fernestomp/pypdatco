{
 "cells": [
  {
   "cell_type": "markdown",
   "source": [
    "# imports"
   ],
   "metadata": {
    "collapsed": false
   }
  },
  {
   "cell_type": "code",
   "execution_count": 1,
   "metadata": {
    "collapsed": true
   },
   "outputs": [],
   "source": [
    "%matplotlib qt5\n",
    "from class_PDC import PDC\n",
    "import matplotlib.pyplot as plt\n",
    "import pandas as pd\n",
    "from pandas.plotting import register_matplotlib_converters\n",
    "register_matplotlib_converters()\n",
    "from drawnow import drawnow\n",
    "import importlib\n",
    "import threading\n",
    "import time\n",
    "import socket\n",
    "import datetime\n"
   ]
  },
  {
   "cell_type": "markdown",
   "source": [
    "# test pdc class"
   ],
   "metadata": {
    "collapsed": false
   }
  },
  {
   "cell_type": "code",
   "execution_count": 8,
   "outputs": [],
   "source": [
    "#test if host name and port is valid\n",
    "# resp  = socket.getaddrinfo('mundomain.arlab1.xyz', 5715)\n",
    "# print('Family: {}'.format(resp[0][0]))\n",
    "# print('Canonname:{}'.format(resp[0][4]))\n"
   ],
   "metadata": {
    "collapsed": false
   }
  },
  {
   "cell_type": "code",
   "execution_count": 4,
   "outputs": [],
   "source": [
    "p = PDC(\"192.168.10.120\",port=5714)\n",
    "#p = PDC('mundomain.arlab1.xyz',port=5715)\n",
    "p.connect()\n",
    "p.start_reading()\n",
    "#time.sleep(2)\n",
    "#p.stop_reading()\n",
    "#p.disconnect()"
   ],
   "metadata": {
    "collapsed": false
   }
  },
  {
   "cell_type": "code",
   "execution_count": 4,
   "outputs": [
    {
     "name": "stdout",
     "output_type": "stream",
     "text": [
      "starting up on localhost port 5000\n"
     ]
    }
   ],
   "source": [
    "p.start_streaming_server()"
   ],
   "metadata": {
    "collapsed": false
   }
  },
  {
   "cell_type": "code",
   "execution_count": 6,
   "outputs": [],
   "source": [
    "p.disconnect()"
   ],
   "metadata": {
    "collapsed": false
   }
  },
  {
   "cell_type": "code",
   "execution_count": 11,
   "outputs": [],
   "source": [
    "p.disconnect()"
   ],
   "metadata": {
    "collapsed": false
   }
  },
  {
   "cell_type": "markdown",
   "source": [
    "# Stream splitter"
   ],
   "metadata": {
    "collapsed": false
   }
  },
  {
   "cell_type": "code",
   "execution_count": null,
   "outputs": [],
   "source": [
    "import socket\n",
    "import sys\n",
    "\n",
    "# Create a TCP/IP socket\n",
    "sock = socket.socket(socket.AF_INET, socket.SOCK_STREAM)\n",
    "\n",
    "# Bind the socket to the port\n",
    "server_address = ('localhost', 5000)\n",
    "print('starting up on {} port {}'.format(*server_address))\n",
    "sock.bind(server_address)\n",
    "\n",
    "# Listen for incoming connections\n",
    "sock.listen(2)\n",
    "\n",
    "while True:\n",
    "    # Wait for a connection\n",
    "    print('waiting for a connection')\n",
    "    connection, client_address = sock.accept()\n",
    "    try:\n",
    "        print('connection from', client_address)\n",
    "\n",
    "        # Receive the data in small chunks and retransmit it\n",
    "        while True:\n",
    "            data = connection.recv(16)\n",
    "            print('received {!r}'.format(data))\n",
    "            if data:\n",
    "                data=p.cfg2_raw\n",
    "                print('sending data back to the client')\n",
    "                connection.sendall(data)\n",
    "                \n",
    "            else:\n",
    "                print('no data from', client_address)\n",
    "                break\n",
    "\n",
    "    finally:\n",
    "        # Clean up the connection\n",
    "        #connection.close()#%%\n",
    "        pass\n"
   ],
   "metadata": {
    "collapsed": false
   }
  },
  {
   "cell_type": "code",
   "execution_count": null,
   "outputs": [],
   "source": [
    "import socket\n",
    "import threading\n",
    "\n",
    "def start_streaming_server(port=5000):\n",
    "    # Create a TCP/IP socket\n",
    "    sock = socket.socket(socket.AF_INET, socket.SOCK_STREAM)\n",
    "\n",
    "    # Bind the socket to the port\n",
    "    server_address = ('localhost', port)\n",
    "    print('starting up on {} port {}'.format(*server_address))\n",
    "    sock.bind(server_address)\n",
    "\n",
    "    # Listen for incoming connections\n",
    "    sock.listen(2)\n",
    "    lst_connections =[]\n",
    "    lst_connections_threads =[]\n",
    "    while True:\n",
    "        # Wait for a connection\n",
    "        print('waiting for a connection')\n",
    "        #connection, client_address = sock.accept()\n",
    "        lst_connections.append(sock.accept())\n",
    "        client_address = lst_connections[-1][1]\n",
    "\n",
    "        try:\n",
    "            print('connection from', client_address)\n",
    "            lst_connections[-1][0].sendall(p.cfg2_raw)\n",
    "            time.sleep(1)\n",
    "\n",
    "            lst_connections_threads.append(threading.Thread(target=stream_dataframe,args=(lst_connections[-1][0],p\n",
    "                                                                                          .dataframe_raw)))\n",
    "            print('Streaming')\n",
    "            lst_connections_threads[-1].start()\n",
    "\n",
    "        finally:\n",
    "            # Clean up the connection\n",
    "            #connection.close()#%%\n",
    "            pass\n"
   ],
   "metadata": {
    "collapsed": false
   }
  },
  {
   "cell_type": "code",
   "execution_count": null,
   "outputs": [],
   "source": [
    "thd_streaming_server = threading.Thread(target=start_streaming_server())\n",
    "thd_streaming_server.start()"
   ],
   "metadata": {
    "collapsed": false
   }
  },
  {
   "cell_type": "markdown",
   "source": [
    "# PDC alignment test"
   ],
   "metadata": {
    "collapsed": false
   }
  },
  {
   "cell_type": "code",
   "execution_count": 2,
   "outputs": [
    {
     "ename": "KeyboardInterrupt",
     "evalue": "",
     "output_type": "error",
     "traceback": [
      "\u001B[1;31m---------------------------------------------------------------------------\u001B[0m",
      "\u001B[1;31mKeyboardInterrupt\u001B[0m                         Traceback (most recent call last)",
      "Cell \u001B[1;32mIn [2], line 4\u001B[0m\n\u001B[0;32m      2\u001B[0m pdc_readings\u001B[38;5;241m.\u001B[39mconnect()\n\u001B[0;32m      3\u001B[0m wtpark_fw_readings \u001B[38;5;241m=\u001B[39m PDC(\u001B[38;5;124m\"\u001B[39m\u001B[38;5;124m192.168.10.120\u001B[39m\u001B[38;5;124m\"\u001B[39m,port\u001B[38;5;241m=\u001B[39m\u001B[38;5;241m7714\u001B[39m,idcode\u001B[38;5;241m=\u001B[39m\u001B[38;5;241m4\u001B[39m)\n\u001B[1;32m----> 4\u001B[0m \u001B[43mwtpark_fw_readings\u001B[49m\u001B[38;5;241;43m.\u001B[39;49m\u001B[43mconnect\u001B[49m\u001B[43m(\u001B[49m\u001B[43m)\u001B[49m\n\u001B[0;32m      5\u001B[0m pdc_readings\u001B[38;5;241m.\u001B[39mstart_reading()\n\u001B[0;32m      6\u001B[0m wtpark_fw_readings\u001B[38;5;241m.\u001B[39mstart_reading()\n",
      "File \u001B[1;32mC:\\Program Files\\JetBrains\\DataSpell 2021.3.2\\plugins\\python-ce\\helpers\\pydev\\_pydevd_bundle\\pydevd_trace_dispatch.py:64\u001B[0m, in \u001B[0;36mtrace_dispatch\u001B[1;34m(py_db, frame, event, arg)\u001B[0m\n\u001B[0;32m     62\u001B[0m \u001B[38;5;28;01mif\u001B[39;00m _trace_dispatch \u001B[38;5;129;01mis\u001B[39;00m \u001B[38;5;28;01mNone\u001B[39;00m:\n\u001B[0;32m     63\u001B[0m     \u001B[38;5;28;01mreturn\u001B[39;00m \u001B[38;5;28;01mNone\u001B[39;00m\n\u001B[1;32m---> 64\u001B[0m \u001B[38;5;28;01mreturn\u001B[39;00m \u001B[43m_trace_dispatch\u001B[49m\u001B[43m(\u001B[49m\u001B[43mpy_db\u001B[49m\u001B[43m,\u001B[49m\u001B[43m \u001B[49m\u001B[43mframe\u001B[49m\u001B[43m,\u001B[49m\u001B[43m \u001B[49m\u001B[43mevent\u001B[49m\u001B[43m,\u001B[49m\u001B[43m \u001B[49m\u001B[43marg\u001B[49m\u001B[43m)\u001B[49m\n",
      "File \u001B[1;32m_pydevd_bundle\\pydevd_cython_win32_39_64.pyx:1329\u001B[0m, in \u001B[0;36m_pydevd_bundle.pydevd_cython_win32_39_64.trace_dispatch\u001B[1;34m()\u001B[0m\n",
      "File \u001B[1;32m_pydevd_bundle\\pydevd_cython_win32_39_64.pyx:1589\u001B[0m, in \u001B[0;36m_pydevd_bundle.pydevd_cython_win32_39_64.ThreadTracer.__call__\u001B[1;34m()\u001B[0m\n",
      "File \u001B[1;32m_pydevd_bundle\\pydevd_cython_win32_39_64.pyx:688\u001B[0m, in \u001B[0;36m_pydevd_bundle.pydevd_cython_win32_39_64.PyDBFrame.trace_dispatch\u001B[1;34m()\u001B[0m\n",
      "File \u001B[1;32m_pydevd_bundle\\pydevd_cython_win32_39_64.pyx:547\u001B[0m, in \u001B[0;36m_pydevd_bundle.pydevd_cython_win32_39_64.PyDBFrame.handle_exception\u001B[1;34m()\u001B[0m\n",
      "File \u001B[1;32m_pydevd_bundle\\pydevd_cython_win32_39_64.pyx:541\u001B[0m, in \u001B[0;36m_pydevd_bundle.pydevd_cython_win32_39_64.PyDBFrame.handle_exception\u001B[1;34m()\u001B[0m\n",
      "File \u001B[1;32m_pydevd_bundle\\pydevd_cython_win32_39_64.pyx:317\u001B[0m, in \u001B[0;36m_pydevd_bundle.pydevd_cython_win32_39_64.PyDBFrame.do_wait_suspend\u001B[1;34m()\u001B[0m\n",
      "File \u001B[1;32mC:\\Program Files\\JetBrains\\DataSpell 2021.3.2\\plugins\\python-ce\\helpers\\pydev\\pydevd.py:1160\u001B[0m, in \u001B[0;36mPyDB.do_wait_suspend\u001B[1;34m(self, thread, frame, event, arg, send_suspend_message, is_unhandled_exception)\u001B[0m\n\u001B[0;32m   1157\u001B[0m         from_this_thread\u001B[38;5;241m.\u001B[39mappend(frame_id)\n\u001B[0;32m   1159\u001B[0m \u001B[38;5;28;01mwith\u001B[39;00m \u001B[38;5;28mself\u001B[39m\u001B[38;5;241m.\u001B[39m_threads_suspended_single_notification\u001B[38;5;241m.\u001B[39mnotify_thread_suspended(thread_id, stop_reason):\n\u001B[1;32m-> 1160\u001B[0m     \u001B[38;5;28;43mself\u001B[39;49m\u001B[38;5;241;43m.\u001B[39;49m\u001B[43m_do_wait_suspend\u001B[49m\u001B[43m(\u001B[49m\u001B[43mthread\u001B[49m\u001B[43m,\u001B[49m\u001B[43m \u001B[49m\u001B[43mframe\u001B[49m\u001B[43m,\u001B[49m\u001B[43m \u001B[49m\u001B[43mevent\u001B[49m\u001B[43m,\u001B[49m\u001B[43m \u001B[49m\u001B[43marg\u001B[49m\u001B[43m,\u001B[49m\u001B[43m \u001B[49m\u001B[43msuspend_type\u001B[49m\u001B[43m,\u001B[49m\u001B[43m \u001B[49m\u001B[43mfrom_this_thread\u001B[49m\u001B[43m)\u001B[49m\n",
      "File \u001B[1;32mC:\\Program Files\\JetBrains\\DataSpell 2021.3.2\\plugins\\python-ce\\helpers\\pydev\\pydevd.py:1175\u001B[0m, in \u001B[0;36mPyDB._do_wait_suspend\u001B[1;34m(self, thread, frame, event, arg, suspend_type, from_this_thread)\u001B[0m\n\u001B[0;32m   1172\u001B[0m             \u001B[38;5;28mself\u001B[39m\u001B[38;5;241m.\u001B[39m_call_mpl_hook()\n\u001B[0;32m   1174\u001B[0m         \u001B[38;5;28mself\u001B[39m\u001B[38;5;241m.\u001B[39mprocess_internal_commands()\n\u001B[1;32m-> 1175\u001B[0m         \u001B[43mtime\u001B[49m\u001B[38;5;241;43m.\u001B[39;49m\u001B[43msleep\u001B[49m\u001B[43m(\u001B[49m\u001B[38;5;241;43m0.01\u001B[39;49m\u001B[43m)\u001B[49m\n\u001B[0;32m   1177\u001B[0m \u001B[38;5;28mself\u001B[39m\u001B[38;5;241m.\u001B[39mcancel_async_evaluation(get_current_thread_id(thread), \u001B[38;5;28mstr\u001B[39m(\u001B[38;5;28mid\u001B[39m(frame)))\n\u001B[0;32m   1179\u001B[0m \u001B[38;5;66;03m# process any stepping instructions\u001B[39;00m\n",
      "\u001B[1;31mKeyboardInterrupt\u001B[0m: "
     ]
    }
   ],
   "source": [
    "pdc_readings = PDC(\"192.168.10.120\",port=5716)\n",
    "pdc_readings.connect()\n",
    "wtpark_fw_readings = PDC(\"192.168.10.120\",port=7714,idcode=4)\n",
    "wtpark_fw_readings.connect()\n",
    "pdc_readings.start_reading()\n",
    "wtpark_fw_readings.start_reading()"
   ],
   "metadata": {
    "collapsed": false
   }
  },
  {
   "cell_type": "code",
   "execution_count": 3,
   "outputs": [
    {
     "data": {
      "text/plain": "b'\\xaa\\x01\\x00J\\x00\\x04d$\\x82\\x90\\x08\\x0b\\x92=\\x01\\x80G\\x83X1\\xc0\\x03guG\\x83X1@\\x08\\xad\\xb0G\\x83X1=(\\xc7<B\\x8eQF\\xbf\\xb79IB\\x8eQF@0x\\x80B\\x8eQF?)\\xb7\\xb6Bp=q\\x00\\x00\\x00\\x00\\x99F'"
     },
     "execution_count": 3,
     "metadata": {},
     "output_type": "execute_result"
    }
   ],
   "source": [
    "wtpark_fw_readings.cfg2_raw"
   ],
   "metadata": {
    "collapsed": false
   }
  },
  {
   "cell_type": "code",
   "execution_count": 8,
   "outputs": [
    {
     "data": {
      "text/plain": "'\\x03guGƒX1@\\x08\\xad°GƒX1='"
     },
     "execution_count": 8,
     "metadata": {},
     "output_type": "execute_result"
    }
   ],
   "source": [
    "wtpark_fw_readings.cfg2_raw[21:37].decode('windows-1252')"
   ],
   "metadata": {
    "collapsed": false
   }
  },
  {
   "cell_type": "code",
   "execution_count": 3,
   "outputs": [
    {
     "name": "stdout",
     "output_type": "stream",
     "text": [
      "ok\n",
      "ok\n",
      "ok\n"
     ]
    }
   ],
   "source": [
    "\n",
    "# t1 = datetime.datetime.now()\n",
    "# delta_t = 0\n",
    "# secs_lapsed = 0\n",
    "# while secs_lapsed<10:\n",
    "#     t2 = datetime.datetime.now()\n",
    "#     delta_t= t2-t1\n",
    "#     secs_lapsed=delta_t.seconds\n",
    "#time.sleep(20)\n",
    "\n"
   ],
   "metadata": {
    "collapsed": false
   }
  },
  {
   "cell_type": "code",
   "execution_count": 13,
   "outputs": [],
   "source": [
    "pdc_readings.stop_reading()\n",
    "wtpark_fw_readings.stop_reading()"
   ],
   "metadata": {
    "collapsed": false
   }
  },
  {
   "cell_type": "code",
   "execution_count": 7,
   "outputs": [],
   "source": [
    "pdcgen1= pdc_readings.dataframes_read[pdc_readings.dataframes_read.STN=='OPPMU_WTPARK    ']\n",
    "wtparkdata = wtpark_fw_readings.dataframes_read"
   ],
   "metadata": {
    "collapsed": false
   }
  },
  {
   "cell_type": "code",
   "execution_count": 13,
   "outputs": [],
   "source": [
    "plt.figure()\n",
    "plt.plot(pdcgen1.TIME,pdcgen1.PHASOR1_MAG)\n",
    "#plt.plot(gen1data.TIME,gen1data.PHASOR1_MAG)\n",
    "plt.show()"
   ],
   "metadata": {
    "collapsed": false
   }
  },
  {
   "cell_type": "code",
   "execution_count": 12,
   "outputs": [
    {
     "data": {
      "text/plain": "                             TIME  FRACSEC               STN  IDCODE  \\\nEPOCH_TIME                                                             \n1.680113e+09  2023-03-29 18:11:23     0.65  OPPMU_WTPARK           4   \n\n              DATA_VALID  PMU_ERROR  PMU_SYNC DATA_SORTING  TRIGGER_DETECTED  \\\nEPOCH_TIME                                                                     \n1.680113e+09        True      False      True    timestamp             False   \n\n              CONFIG_CHANGED  ...     PHASOR5_CHNAM PHASOR5_UNIT PHASOR5_MAG  \\\nEPOCH_TIME                    ...                                              \n1.680113e+09           False  ...  IB_WTPARK                volt   71.158737   \n\n             PHASOR5_ANG     PHASOR6_CHNAM  PHASOR6_UNIT PHASOR6_MAG  \\\nEPOCH_TIME                                                             \n1.680113e+09  157.984789  IC_WTPARK                 volt   71.158737   \n\n             PHASOR6_ANG       FREQ  DFREQ  \nEPOCH_TIME                                  \n1.680113e+09   37.984779  60.060001    0.0  \n\n[1 rows x 38 columns]",
      "text/html": "<div>\n<style scoped>\n    .dataframe tbody tr th:only-of-type {\n        vertical-align: middle;\n    }\n\n    .dataframe tbody tr th {\n        vertical-align: top;\n    }\n\n    .dataframe thead th {\n        text-align: right;\n    }\n</style>\n<table border=\"1\" class=\"dataframe\">\n  <thead>\n    <tr style=\"text-align: right;\">\n      <th></th>\n      <th>TIME</th>\n      <th>FRACSEC</th>\n      <th>STN</th>\n      <th>IDCODE</th>\n      <th>DATA_VALID</th>\n      <th>PMU_ERROR</th>\n      <th>PMU_SYNC</th>\n      <th>DATA_SORTING</th>\n      <th>TRIGGER_DETECTED</th>\n      <th>CONFIG_CHANGED</th>\n      <th>...</th>\n      <th>PHASOR5_CHNAM</th>\n      <th>PHASOR5_UNIT</th>\n      <th>PHASOR5_MAG</th>\n      <th>PHASOR5_ANG</th>\n      <th>PHASOR6_CHNAM</th>\n      <th>PHASOR6_UNIT</th>\n      <th>PHASOR6_MAG</th>\n      <th>PHASOR6_ANG</th>\n      <th>FREQ</th>\n      <th>DFREQ</th>\n    </tr>\n    <tr>\n      <th>EPOCH_TIME</th>\n      <th></th>\n      <th></th>\n      <th></th>\n      <th></th>\n      <th></th>\n      <th></th>\n      <th></th>\n      <th></th>\n      <th></th>\n      <th></th>\n      <th></th>\n      <th></th>\n      <th></th>\n      <th></th>\n      <th></th>\n      <th></th>\n      <th></th>\n      <th></th>\n      <th></th>\n      <th></th>\n      <th></th>\n    </tr>\n  </thead>\n  <tbody>\n    <tr>\n      <th>1.680113e+09</th>\n      <td>2023-03-29 18:11:23</td>\n      <td>0.65</td>\n      <td>OPPMU_WTPARK</td>\n      <td>4</td>\n      <td>True</td>\n      <td>False</td>\n      <td>True</td>\n      <td>timestamp</td>\n      <td>False</td>\n      <td>False</td>\n      <td>...</td>\n      <td>IB_WTPARK</td>\n      <td>volt</td>\n      <td>71.158737</td>\n      <td>157.984789</td>\n      <td>IC_WTPARK</td>\n      <td>volt</td>\n      <td>71.158737</td>\n      <td>37.984779</td>\n      <td>60.060001</td>\n      <td>0.0</td>\n    </tr>\n  </tbody>\n</table>\n<p>1 rows × 38 columns</p>\n</div>"
     },
     "execution_count": 12,
     "metadata": {},
     "output_type": "execute_result"
    }
   ],
   "source": [
    "wtpark_fw_readings.dataframes_read"
   ],
   "metadata": {
    "collapsed": false
   }
  },
  {
   "cell_type": "code",
   "execution_count": 9,
   "outputs": [
    {
     "data": {
      "text/plain": "                             TIME   FRACSEC               STN  IDCODE  \\\nEPOCH_TIME                                                              \n1.680113e+09  2023-03-29 18:04:08  0.595833  OPPMU_WTPARK           4   \n1.680113e+09  2023-03-29 18:04:08  0.595833  OPPMU_GEN2             2   \n1.680113e+09  2023-03-29 18:04:08  0.595833  OPPMU_GEN1             1   \n1.680113e+09  2023-03-29 18:04:08  0.595833  OPPMU_SLACK            3   \n\n              DATA_VALID  PMU_ERROR  PMU_SYNC DATA_SORTING  TRIGGER_DETECTED  \\\nEPOCH_TIME                                                                     \n1.680113e+09        True      False     False    timestamp             False   \n1.680113e+09        True      False     False    timestamp             False   \n1.680113e+09        True      False     False    timestamp             False   \n1.680113e+09        True      False     False    timestamp             False   \n\n              CONFIG_CHANGED  ...     PHASOR5_CHNAM PHASOR5_UNIT  PHASOR5_MAG  \\\nEPOCH_TIME                    ...                                               \n1.680113e+09           False  ...  Phasor4                   amp    71.158737   \n1.680113e+09           False  ...  Phasor4                   amp   981.677185   \n1.680113e+09           False  ...  Phasor4                   amp  1079.404663   \n1.680113e+09           False  ...  Phasor4                   amp  1103.424561   \n\n             PHASOR5_ANG     PHASOR6_CHNAM  PHASOR6_UNIT  PHASOR6_MAG  \\\nEPOCH_TIME                                                              \n1.680113e+09  157.984789  Phasor5                    amp    71.158737   \n1.680113e+09  131.656281  Phasor5                    amp   981.677185   \n1.680113e+09  136.030840  Phasor5                    amp  1079.404663   \n1.680113e+09  120.246560  Phasor5                    amp  1103.424561   \n\n             PHASOR6_ANG       FREQ  DFREQ  \nEPOCH_TIME                                  \n1.680113e+09   37.984775  60.060001    0.0  \n1.680113e+09   11.656267  60.060001    0.0  \n1.680113e+09   16.030828  60.060001    0.0  \n1.680113e+09    0.246569  60.060001    0.0  \n\n[4 rows x 38 columns]",
      "text/html": "<div>\n<style scoped>\n    .dataframe tbody tr th:only-of-type {\n        vertical-align: middle;\n    }\n\n    .dataframe tbody tr th {\n        vertical-align: top;\n    }\n\n    .dataframe thead th {\n        text-align: right;\n    }\n</style>\n<table border=\"1\" class=\"dataframe\">\n  <thead>\n    <tr style=\"text-align: right;\">\n      <th></th>\n      <th>TIME</th>\n      <th>FRACSEC</th>\n      <th>STN</th>\n      <th>IDCODE</th>\n      <th>DATA_VALID</th>\n      <th>PMU_ERROR</th>\n      <th>PMU_SYNC</th>\n      <th>DATA_SORTING</th>\n      <th>TRIGGER_DETECTED</th>\n      <th>CONFIG_CHANGED</th>\n      <th>...</th>\n      <th>PHASOR5_CHNAM</th>\n      <th>PHASOR5_UNIT</th>\n      <th>PHASOR5_MAG</th>\n      <th>PHASOR5_ANG</th>\n      <th>PHASOR6_CHNAM</th>\n      <th>PHASOR6_UNIT</th>\n      <th>PHASOR6_MAG</th>\n      <th>PHASOR6_ANG</th>\n      <th>FREQ</th>\n      <th>DFREQ</th>\n    </tr>\n    <tr>\n      <th>EPOCH_TIME</th>\n      <th></th>\n      <th></th>\n      <th></th>\n      <th></th>\n      <th></th>\n      <th></th>\n      <th></th>\n      <th></th>\n      <th></th>\n      <th></th>\n      <th></th>\n      <th></th>\n      <th></th>\n      <th></th>\n      <th></th>\n      <th></th>\n      <th></th>\n      <th></th>\n      <th></th>\n      <th></th>\n      <th></th>\n    </tr>\n  </thead>\n  <tbody>\n    <tr>\n      <th>1.680113e+09</th>\n      <td>2023-03-29 18:04:08</td>\n      <td>0.595833</td>\n      <td>OPPMU_WTPARK</td>\n      <td>4</td>\n      <td>True</td>\n      <td>False</td>\n      <td>False</td>\n      <td>timestamp</td>\n      <td>False</td>\n      <td>False</td>\n      <td>...</td>\n      <td>Phasor4</td>\n      <td>amp</td>\n      <td>71.158737</td>\n      <td>157.984789</td>\n      <td>Phasor5</td>\n      <td>amp</td>\n      <td>71.158737</td>\n      <td>37.984775</td>\n      <td>60.060001</td>\n      <td>0.0</td>\n    </tr>\n    <tr>\n      <th>1.680113e+09</th>\n      <td>2023-03-29 18:04:08</td>\n      <td>0.595833</td>\n      <td>OPPMU_GEN2</td>\n      <td>2</td>\n      <td>True</td>\n      <td>False</td>\n      <td>False</td>\n      <td>timestamp</td>\n      <td>False</td>\n      <td>False</td>\n      <td>...</td>\n      <td>Phasor4</td>\n      <td>amp</td>\n      <td>981.677185</td>\n      <td>131.656281</td>\n      <td>Phasor5</td>\n      <td>amp</td>\n      <td>981.677185</td>\n      <td>11.656267</td>\n      <td>60.060001</td>\n      <td>0.0</td>\n    </tr>\n    <tr>\n      <th>1.680113e+09</th>\n      <td>2023-03-29 18:04:08</td>\n      <td>0.595833</td>\n      <td>OPPMU_GEN1</td>\n      <td>1</td>\n      <td>True</td>\n      <td>False</td>\n      <td>False</td>\n      <td>timestamp</td>\n      <td>False</td>\n      <td>False</td>\n      <td>...</td>\n      <td>Phasor4</td>\n      <td>amp</td>\n      <td>1079.404663</td>\n      <td>136.030840</td>\n      <td>Phasor5</td>\n      <td>amp</td>\n      <td>1079.404663</td>\n      <td>16.030828</td>\n      <td>60.060001</td>\n      <td>0.0</td>\n    </tr>\n    <tr>\n      <th>1.680113e+09</th>\n      <td>2023-03-29 18:04:08</td>\n      <td>0.595833</td>\n      <td>OPPMU_SLACK</td>\n      <td>3</td>\n      <td>True</td>\n      <td>False</td>\n      <td>False</td>\n      <td>timestamp</td>\n      <td>False</td>\n      <td>False</td>\n      <td>...</td>\n      <td>Phasor4</td>\n      <td>amp</td>\n      <td>1103.424561</td>\n      <td>120.246560</td>\n      <td>Phasor5</td>\n      <td>amp</td>\n      <td>1103.424561</td>\n      <td>0.246569</td>\n      <td>60.060001</td>\n      <td>0.0</td>\n    </tr>\n  </tbody>\n</table>\n<p>4 rows × 38 columns</p>\n</div>"
     },
     "execution_count": 9,
     "metadata": {},
     "output_type": "execute_result"
    }
   ],
   "source": [
    "pdc_readings.dataframes_read"
   ],
   "metadata": {
    "collapsed": false
   }
  },
  {
   "cell_type": "code",
   "execution_count": 14,
   "outputs": [
    {
     "data": {
      "text/plain": "EPOCH_TIME\n1.680113e+09    67248.382812\n1.680113e+09    67248.382812\nName: PHASOR1_MAG, dtype: float64"
     },
     "execution_count": 14,
     "metadata": {},
     "output_type": "execute_result"
    }
   ],
   "source": [
    "pdcgen1.PHASOR1_MAG"
   ],
   "metadata": {
    "collapsed": false
   }
  },
  {
   "cell_type": "code",
   "execution_count": 5,
   "outputs": [],
   "source": [
    "pdc"
   ],
   "metadata": {
    "collapsed": false
   }
  },
  {
   "cell_type": "code",
   "execution_count": 6,
   "outputs": [
    {
     "data": {
      "text/plain": "10"
     },
     "execution_count": 6,
     "metadata": {},
     "output_type": "execute_result"
    }
   ],
   "source": [
    "c.seconds"
   ],
   "metadata": {
    "collapsed": false
   }
  }
 ],
 "metadata": {
  "kernelspec": {
   "display_name": "Python 3",
   "language": "python",
   "name": "python3"
  },
  "language_info": {
   "codemirror_mode": {
    "name": "ipython",
    "version": 2
   },
   "file_extension": ".py",
   "mimetype": "text/x-python",
   "name": "python",
   "nbconvert_exporter": "python",
   "pygments_lexer": "ipython2",
   "version": "2.7.6"
  }
 },
 "nbformat": 4,
 "nbformat_minor": 0
}
