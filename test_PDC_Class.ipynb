{
 "cells": [
  {
   "cell_type": "code",
   "execution_count": 1,
   "metadata": {
    "collapsed": true
   },
   "outputs": [],
   "source": [
    "from class_PDC import PDC\n",
    "import matplotlib.pyplot as plt\n",
    "import pandas as pd\n",
    "from pandas.plotting import register_matplotlib_converters\n",
    "register_matplotlib_converters()\n",
    "from drawnow import drawnow\n",
    "import importlib\n",
    "import threading\n",
    "import time\n",
    "import socket"
   ]
  },
  {
   "cell_type": "markdown",
   "source": [
    "# test pdc class"
   ],
   "metadata": {
    "collapsed": false
   }
  },
  {
   "cell_type": "code",
   "execution_count": 2,
   "outputs": [
    {
     "name": "stdout",
     "output_type": "stream",
     "text": [
      "Family: 2\n",
      "Canonname:('44.240.96.177', 5714)\n"
     ]
    }
   ],
   "source": [
    "#test if host name and port is valid\n",
    "resp  = socket.getaddrinfo('mundomain.arlab1.xyz', 5714)\n",
    "print('Family: {}'.format(resp[0][0]))\n",
    "print('Canonname:{}'.format(resp[0][4]))\n"
   ],
   "metadata": {
    "collapsed": false
   }
  },
  {
   "cell_type": "code",
   "execution_count": 3,
   "outputs": [],
   "source": [
    "#p = PDC(\"192.168.10.120\",port=5714)\n",
    "p = PDC(\"pdc.gl-inet.com\",port=5714)\n",
    "p.connect()\n",
    "p.start_reading()\n",
    "#time.sleep(2)\n",
    "#p.stop_reading()\n",
    "#p.disconnect()"
   ],
   "metadata": {
    "collapsed": false
   }
  },
  {
   "cell_type": "code",
   "execution_count": 4,
   "outputs": [
    {
     "name": "stdout",
     "output_type": "stream",
     "text": [
      "starting up on localhost port 5000\n"
     ]
    }
   ],
   "source": [
    "p.start_streaming_server()"
   ],
   "metadata": {
    "collapsed": false
   }
  },
  {
   "cell_type": "code",
   "execution_count": 5,
   "outputs": [
    {
     "data": {
      "text/plain": "                             TIME  FRACSEC               STN  IDCODE  \\\nEPOCH_TIME                                                             \n1.677782e+09  2023-03-02 18:41:29      0.4  OPPMU_WTPARK           4   \n1.677782e+09  2023-03-02 18:41:29      0.4  OPPMU_GPO_G2           2   \n1.677782e+09  2023-03-02 18:41:29      0.4  OPPMU_GPO_G1           1   \n1.677782e+09  2023-03-02 18:41:29      0.5  OPPMU_WTPARK           4   \n1.677782e+09  2023-03-02 18:41:29      0.5  OPPMU_GPO_G2           2   \n...                           ...      ...               ...     ...   \n1.677783e+09  2023-03-02 18:41:52      0.4  OPPMU_GPO_G2           2   \n1.677783e+09  2023-03-02 18:41:52      0.4  OPPMU_GPO_G1           1   \n1.677783e+09  2023-03-02 18:41:52      0.5  OPPMU_WTPARK           4   \n1.677783e+09  2023-03-02 18:41:52      0.5  OPPMU_GPO_G2           2   \n1.677783e+09  2023-03-02 18:41:52      0.5  OPPMU_GPO_G1           1   \n\n              DATA_VALID  PMU_ERROR  PMU_SYNC DATA_SORTING  TRIGGER_DETECTED  \\\nEPOCH_TIME                                                                     \n1.677782e+09        True      False     False    timestamp             False   \n1.677782e+09        True      False     False    timestamp             False   \n1.677782e+09        True      False     False    timestamp             False   \n1.677782e+09        True      False     False    timestamp             False   \n1.677782e+09        True      False     False    timestamp             False   \n...                  ...        ...       ...          ...               ...   \n1.677783e+09        True      False     False    timestamp             False   \n1.677783e+09        True      False     False    timestamp             False   \n1.677783e+09        True      False     False    timestamp             False   \n1.677783e+09        True      False     False    timestamp             False   \n1.677783e+09        True      False     False    timestamp             False   \n\n              CONFIG_CHANGED  ...     PHASOR5_CHNAM PHASOR5_UNIT  PHASOR5_MAG  \\\nEPOCH_TIME                    ...                                               \n1.677782e+09           False  ...  Phasor4                   amp    70.693726   \n1.677782e+09           False  ...  Phasor4                   amp   583.463928   \n1.677782e+09           False  ...  Phasor4                   amp  1196.002197   \n1.677782e+09           False  ...  Phasor4                   amp    70.693726   \n1.677782e+09           False  ...  Phasor4                   amp   583.463928   \n...                      ...  ...               ...          ...          ...   \n1.677783e+09           False  ...  Phasor4                   amp   583.463928   \n1.677783e+09           False  ...  Phasor4                   amp  1196.002197   \n1.677783e+09           False  ...  Phasor4                   amp    70.693726   \n1.677783e+09           False  ...  Phasor4                   amp   583.463928   \n1.677783e+09           False  ...  Phasor4                   amp  1196.002197   \n\n             PHASOR5_ANG     PHASOR6_CHNAM  PHASOR6_UNIT  PHASOR6_MAG  \\\nEPOCH_TIME                                                              \n1.677782e+09  -22.544052  Phasor5                    amp    70.693726   \n1.677782e+09  127.492229  Phasor5                    amp   583.463928   \n1.677782e+09  120.246560  Phasor5                    amp  1196.002197   \n1.677782e+09  -22.544052  Phasor5                    amp    70.693726   \n1.677782e+09  127.492229  Phasor5                    amp   583.463928   \n...                  ...               ...           ...          ...   \n1.677783e+09  127.492229  Phasor5                    amp   583.463928   \n1.677783e+09  120.246560  Phasor5                    amp  1196.002197   \n1.677783e+09  -22.544052  Phasor5                    amp    70.693726   \n1.677783e+09  127.492229  Phasor5                    amp   583.463928   \n1.677783e+09  120.246560  Phasor5                    amp  1196.002197   \n\n             PHASOR6_ANG       FREQ         DFREQ  \nEPOCH_TIME                                         \n1.677782e+09 -142.544054  60.060001  0.000000e+00  \n1.677782e+09    7.492214  60.060001  7.275958e-12  \n1.677782e+09 -119.753420  60.060001  0.000000e+00  \n1.677782e+09 -142.544054  60.060001  0.000000e+00  \n1.677782e+09    7.492214  60.060001  7.275958e-12  \n...                  ...        ...           ...  \n1.677783e+09    7.492214  60.060001  7.275958e-12  \n1.677783e+09 -119.753420  60.060001  0.000000e+00  \n1.677783e+09 -142.544054  60.060001  0.000000e+00  \n1.677783e+09    7.492214  60.060001  7.275958e-12  \n1.677783e+09 -119.753420  60.060001  0.000000e+00  \n\n[606 rows x 38 columns]",
      "text/html": "<div>\n<style scoped>\n    .dataframe tbody tr th:only-of-type {\n        vertical-align: middle;\n    }\n\n    .dataframe tbody tr th {\n        vertical-align: top;\n    }\n\n    .dataframe thead th {\n        text-align: right;\n    }\n</style>\n<table border=\"1\" class=\"dataframe\">\n  <thead>\n    <tr style=\"text-align: right;\">\n      <th></th>\n      <th>TIME</th>\n      <th>FRACSEC</th>\n      <th>STN</th>\n      <th>IDCODE</th>\n      <th>DATA_VALID</th>\n      <th>PMU_ERROR</th>\n      <th>PMU_SYNC</th>\n      <th>DATA_SORTING</th>\n      <th>TRIGGER_DETECTED</th>\n      <th>CONFIG_CHANGED</th>\n      <th>...</th>\n      <th>PHASOR5_CHNAM</th>\n      <th>PHASOR5_UNIT</th>\n      <th>PHASOR5_MAG</th>\n      <th>PHASOR5_ANG</th>\n      <th>PHASOR6_CHNAM</th>\n      <th>PHASOR6_UNIT</th>\n      <th>PHASOR6_MAG</th>\n      <th>PHASOR6_ANG</th>\n      <th>FREQ</th>\n      <th>DFREQ</th>\n    </tr>\n    <tr>\n      <th>EPOCH_TIME</th>\n      <th></th>\n      <th></th>\n      <th></th>\n      <th></th>\n      <th></th>\n      <th></th>\n      <th></th>\n      <th></th>\n      <th></th>\n      <th></th>\n      <th></th>\n      <th></th>\n      <th></th>\n      <th></th>\n      <th></th>\n      <th></th>\n      <th></th>\n      <th></th>\n      <th></th>\n      <th></th>\n      <th></th>\n    </tr>\n  </thead>\n  <tbody>\n    <tr>\n      <th>1.677782e+09</th>\n      <td>2023-03-02 18:41:29</td>\n      <td>0.4</td>\n      <td>OPPMU_WTPARK</td>\n      <td>4</td>\n      <td>True</td>\n      <td>False</td>\n      <td>False</td>\n      <td>timestamp</td>\n      <td>False</td>\n      <td>False</td>\n      <td>...</td>\n      <td>Phasor4</td>\n      <td>amp</td>\n      <td>70.693726</td>\n      <td>-22.544052</td>\n      <td>Phasor5</td>\n      <td>amp</td>\n      <td>70.693726</td>\n      <td>-142.544054</td>\n      <td>60.060001</td>\n      <td>0.000000e+00</td>\n    </tr>\n    <tr>\n      <th>1.677782e+09</th>\n      <td>2023-03-02 18:41:29</td>\n      <td>0.4</td>\n      <td>OPPMU_GPO_G2</td>\n      <td>2</td>\n      <td>True</td>\n      <td>False</td>\n      <td>False</td>\n      <td>timestamp</td>\n      <td>False</td>\n      <td>False</td>\n      <td>...</td>\n      <td>Phasor4</td>\n      <td>amp</td>\n      <td>583.463928</td>\n      <td>127.492229</td>\n      <td>Phasor5</td>\n      <td>amp</td>\n      <td>583.463928</td>\n      <td>7.492214</td>\n      <td>60.060001</td>\n      <td>7.275958e-12</td>\n    </tr>\n    <tr>\n      <th>1.677782e+09</th>\n      <td>2023-03-02 18:41:29</td>\n      <td>0.4</td>\n      <td>OPPMU_GPO_G1</td>\n      <td>1</td>\n      <td>True</td>\n      <td>False</td>\n      <td>False</td>\n      <td>timestamp</td>\n      <td>False</td>\n      <td>False</td>\n      <td>...</td>\n      <td>Phasor4</td>\n      <td>amp</td>\n      <td>1196.002197</td>\n      <td>120.246560</td>\n      <td>Phasor5</td>\n      <td>amp</td>\n      <td>1196.002197</td>\n      <td>-119.753420</td>\n      <td>60.060001</td>\n      <td>0.000000e+00</td>\n    </tr>\n    <tr>\n      <th>1.677782e+09</th>\n      <td>2023-03-02 18:41:29</td>\n      <td>0.5</td>\n      <td>OPPMU_WTPARK</td>\n      <td>4</td>\n      <td>True</td>\n      <td>False</td>\n      <td>False</td>\n      <td>timestamp</td>\n      <td>False</td>\n      <td>False</td>\n      <td>...</td>\n      <td>Phasor4</td>\n      <td>amp</td>\n      <td>70.693726</td>\n      <td>-22.544052</td>\n      <td>Phasor5</td>\n      <td>amp</td>\n      <td>70.693726</td>\n      <td>-142.544054</td>\n      <td>60.060001</td>\n      <td>0.000000e+00</td>\n    </tr>\n    <tr>\n      <th>1.677782e+09</th>\n      <td>2023-03-02 18:41:29</td>\n      <td>0.5</td>\n      <td>OPPMU_GPO_G2</td>\n      <td>2</td>\n      <td>True</td>\n      <td>False</td>\n      <td>False</td>\n      <td>timestamp</td>\n      <td>False</td>\n      <td>False</td>\n      <td>...</td>\n      <td>Phasor4</td>\n      <td>amp</td>\n      <td>583.463928</td>\n      <td>127.492229</td>\n      <td>Phasor5</td>\n      <td>amp</td>\n      <td>583.463928</td>\n      <td>7.492214</td>\n      <td>60.060001</td>\n      <td>7.275958e-12</td>\n    </tr>\n    <tr>\n      <th>...</th>\n      <td>...</td>\n      <td>...</td>\n      <td>...</td>\n      <td>...</td>\n      <td>...</td>\n      <td>...</td>\n      <td>...</td>\n      <td>...</td>\n      <td>...</td>\n      <td>...</td>\n      <td>...</td>\n      <td>...</td>\n      <td>...</td>\n      <td>...</td>\n      <td>...</td>\n      <td>...</td>\n      <td>...</td>\n      <td>...</td>\n      <td>...</td>\n      <td>...</td>\n      <td>...</td>\n    </tr>\n    <tr>\n      <th>1.677783e+09</th>\n      <td>2023-03-02 18:41:52</td>\n      <td>0.4</td>\n      <td>OPPMU_GPO_G2</td>\n      <td>2</td>\n      <td>True</td>\n      <td>False</td>\n      <td>False</td>\n      <td>timestamp</td>\n      <td>False</td>\n      <td>False</td>\n      <td>...</td>\n      <td>Phasor4</td>\n      <td>amp</td>\n      <td>583.463928</td>\n      <td>127.492229</td>\n      <td>Phasor5</td>\n      <td>amp</td>\n      <td>583.463928</td>\n      <td>7.492214</td>\n      <td>60.060001</td>\n      <td>7.275958e-12</td>\n    </tr>\n    <tr>\n      <th>1.677783e+09</th>\n      <td>2023-03-02 18:41:52</td>\n      <td>0.4</td>\n      <td>OPPMU_GPO_G1</td>\n      <td>1</td>\n      <td>True</td>\n      <td>False</td>\n      <td>False</td>\n      <td>timestamp</td>\n      <td>False</td>\n      <td>False</td>\n      <td>...</td>\n      <td>Phasor4</td>\n      <td>amp</td>\n      <td>1196.002197</td>\n      <td>120.246560</td>\n      <td>Phasor5</td>\n      <td>amp</td>\n      <td>1196.002197</td>\n      <td>-119.753420</td>\n      <td>60.060001</td>\n      <td>0.000000e+00</td>\n    </tr>\n    <tr>\n      <th>1.677783e+09</th>\n      <td>2023-03-02 18:41:52</td>\n      <td>0.5</td>\n      <td>OPPMU_WTPARK</td>\n      <td>4</td>\n      <td>True</td>\n      <td>False</td>\n      <td>False</td>\n      <td>timestamp</td>\n      <td>False</td>\n      <td>False</td>\n      <td>...</td>\n      <td>Phasor4</td>\n      <td>amp</td>\n      <td>70.693726</td>\n      <td>-22.544052</td>\n      <td>Phasor5</td>\n      <td>amp</td>\n      <td>70.693726</td>\n      <td>-142.544054</td>\n      <td>60.060001</td>\n      <td>0.000000e+00</td>\n    </tr>\n    <tr>\n      <th>1.677783e+09</th>\n      <td>2023-03-02 18:41:52</td>\n      <td>0.5</td>\n      <td>OPPMU_GPO_G2</td>\n      <td>2</td>\n      <td>True</td>\n      <td>False</td>\n      <td>False</td>\n      <td>timestamp</td>\n      <td>False</td>\n      <td>False</td>\n      <td>...</td>\n      <td>Phasor4</td>\n      <td>amp</td>\n      <td>583.463928</td>\n      <td>127.492229</td>\n      <td>Phasor5</td>\n      <td>amp</td>\n      <td>583.463928</td>\n      <td>7.492214</td>\n      <td>60.060001</td>\n      <td>7.275958e-12</td>\n    </tr>\n    <tr>\n      <th>1.677783e+09</th>\n      <td>2023-03-02 18:41:52</td>\n      <td>0.5</td>\n      <td>OPPMU_GPO_G1</td>\n      <td>1</td>\n      <td>True</td>\n      <td>False</td>\n      <td>False</td>\n      <td>timestamp</td>\n      <td>False</td>\n      <td>False</td>\n      <td>...</td>\n      <td>Phasor4</td>\n      <td>amp</td>\n      <td>1196.002197</td>\n      <td>120.246560</td>\n      <td>Phasor5</td>\n      <td>amp</td>\n      <td>1196.002197</td>\n      <td>-119.753420</td>\n      <td>60.060001</td>\n      <td>0.000000e+00</td>\n    </tr>\n  </tbody>\n</table>\n<p>606 rows × 38 columns</p>\n</div>"
     },
     "execution_count": 5,
     "metadata": {},
     "output_type": "execute_result"
    }
   ],
   "source": [
    "p.dataframes_read"
   ],
   "metadata": {
    "collapsed": false
   }
  },
  {
   "cell_type": "markdown",
   "source": [
    "# Stream splitter"
   ],
   "metadata": {
    "collapsed": false
   }
  },
  {
   "cell_type": "code",
   "execution_count": null,
   "outputs": [],
   "source": [
    "import socket\n",
    "import sys\n",
    "\n",
    "# Create a TCP/IP socket\n",
    "sock = socket.socket(socket.AF_INET, socket.SOCK_STREAM)\n",
    "\n",
    "# Bind the socket to the port\n",
    "server_address = ('localhost', 5000)\n",
    "print('starting up on {} port {}'.format(*server_address))\n",
    "sock.bind(server_address)\n",
    "\n",
    "# Listen for incoming connections\n",
    "sock.listen(2)\n",
    "\n",
    "while True:\n",
    "    # Wait for a connection\n",
    "    print('waiting for a connection')\n",
    "    connection, client_address = sock.accept()\n",
    "    try:\n",
    "        print('connection from', client_address)\n",
    "\n",
    "        # Receive the data in small chunks and retransmit it\n",
    "        while True:\n",
    "            data = connection.recv(16)\n",
    "            print('received {!r}'.format(data))\n",
    "            if data:\n",
    "                data=p.cfg2_raw\n",
    "                print('sending data back to the client')\n",
    "                connection.sendall(data)\n",
    "                \n",
    "            else:\n",
    "                print('no data from', client_address)\n",
    "                break\n",
    "\n",
    "    finally:\n",
    "        # Clean up the connection\n",
    "        #connection.close()#%%\n",
    "        pass\n"
   ],
   "metadata": {
    "collapsed": false
   }
  },
  {
   "cell_type": "code",
   "execution_count": null,
   "outputs": [],
   "source": [
    "import socket\n",
    "import threading\n",
    "\n",
    "def start_streaming_server(port=5000):\n",
    "    # Create a TCP/IP socket\n",
    "    sock = socket.socket(socket.AF_INET, socket.SOCK_STREAM)\n",
    "\n",
    "    # Bind the socket to the port\n",
    "    server_address = ('localhost', port)\n",
    "    print('starting up on {} port {}'.format(*server_address))\n",
    "    sock.bind(server_address)\n",
    "\n",
    "    # Listen for incoming connections\n",
    "    sock.listen(2)\n",
    "    lst_connections =[]\n",
    "    lst_connections_threads =[]\n",
    "    while True:\n",
    "        # Wait for a connection\n",
    "        print('waiting for a connection')\n",
    "        #connection, client_address = sock.accept()\n",
    "        lst_connections.append(sock.accept())\n",
    "        client_address = lst_connections[-1][1]\n",
    "\n",
    "        try:\n",
    "            print('connection from', client_address)\n",
    "            lst_connections[-1][0].sendall(p.cfg2_raw)\n",
    "            time.sleep(1)\n",
    "\n",
    "            lst_connections_threads.append(threading.Thread(target=stream_dataframe,args=(lst_connections[-1][0],p\n",
    "                                                                                          .dataframe_raw)))\n",
    "            print('Streaming')\n",
    "            lst_connections_threads[-1].start()\n",
    "\n",
    "        finally:\n",
    "            # Clean up the connection\n",
    "            #connection.close()#%%\n",
    "            pass\n"
   ],
   "metadata": {
    "collapsed": false
   }
  },
  {
   "cell_type": "code",
   "execution_count": null,
   "outputs": [],
   "source": [
    "thd_streaming_server = threading.Thread(target=start_streaming_server())\n",
    "thd_streaming_server.start()"
   ],
   "metadata": {
    "collapsed": false
   }
  },
  {
   "cell_type": "code",
   "execution_count": null,
   "outputs": [],
   "source": [
    "import multiprocessing"
   ],
   "metadata": {
    "collapsed": false
   }
  },
  {
   "cell_type": "code",
   "execution_count": null,
   "outputs": [],
   "source": [
    "b = list(p.cfg2_raw)"
   ],
   "metadata": {
    "collapsed": false
   }
  },
  {
   "cell_type": "code",
   "execution_count": null,
   "outputs": [],
   "source": [
    "a = multiprocessing.Array('i',p.cfg2_raw)"
   ],
   "metadata": {
    "collapsed": false
   }
  },
  {
   "cell_type": "code",
   "execution_count": null,
   "outputs": [],
   "source": [
    "bytes(a)"
   ],
   "metadata": {
    "collapsed": false
   }
  },
  {
   "cell_type": "code",
   "execution_count": null,
   "outputs": [],
   "source": [
    "a"
   ],
   "metadata": {
    "collapsed": false
   }
  },
  {
   "cell_type": "code",
   "execution_count": null,
   "outputs": [],
   "source": [
    "import socket"
   ],
   "metadata": {
    "collapsed": false
   }
  },
  {
   "cell_type": "code",
   "execution_count": null,
   "outputs": [],
   "source": [
    "socket.AF_INET"
   ],
   "metadata": {
    "collapsed": false
   }
  }
 ],
 "metadata": {
  "kernelspec": {
   "display_name": "Python 3",
   "language": "python",
   "name": "python3"
  },
  "language_info": {
   "codemirror_mode": {
    "name": "ipython",
    "version": 2
   },
   "file_extension": ".py",
   "mimetype": "text/x-python",
   "name": "python",
   "nbconvert_exporter": "python",
   "pygments_lexer": "ipython2",
   "version": "2.7.6"
  }
 },
 "nbformat": 4,
 "nbformat_minor": 0
}
