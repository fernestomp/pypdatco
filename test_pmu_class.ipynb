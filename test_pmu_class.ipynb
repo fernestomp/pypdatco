{
 "cells": [
  {
   "cell_type": "code",
   "execution_count": null,
   "metadata": {},
   "outputs": [],
   "source": [
    "'''\n",
    "Notebook to test my own C37.118 protocol implementation.\n",
    "\n",
    "'''"
   ]
  },
  {
   "cell_type": "code",
   "execution_count": 1,
   "metadata": {
    "ExecuteTime": {
     "end_time": "2020-03-11T00:16:51.088213Z",
     "start_time": "2020-03-11T00:16:51.084261Z"
    }
   },
   "outputs": [],
   "source": [
    "from class_PMU import PMU\n",
    "import matplotlib.pyplot as plt\n",
    "import pandas as pd\n",
    "from pandas.plotting import register_matplotlib_converters\n",
    "register_matplotlib_converters()\n",
    "from drawnow import drawnow"
   ]
  },
  {
   "cell_type": "code",
   "execution_count": 3,
   "metadata": {
    "ExecuteTime": {
     "end_time": "2020-03-11T00:08:32.899770Z",
     "start_time": "2020-03-11T00:08:32.700643Z"
    }
   },
   "outputs": [
    {
     "ename": "AssertionError",
     "evalue": "DATA_RATE cannot be zero",
     "output_type": "error",
     "traceback": [
      "\u001B[1;31m---------------------------------------------------------------------------\u001B[0m",
      "\u001B[1;31mAssertionError\u001B[0m                            Traceback (most recent call last)",
      "Cell \u001B[1;32mIn [3], line 3\u001B[0m\n\u001B[0;32m      1\u001B[0m \u001B[38;5;66;03m#print dataframe dict\u001B[39;00m\n\u001B[0;32m      2\u001B[0m p \u001B[38;5;241m=\u001B[39m PMU(\u001B[38;5;124m\"\u001B[39m\u001B[38;5;124m192.168.10.120\u001B[39m\u001B[38;5;124m\"\u001B[39m,port\u001B[38;5;241m=\u001B[39m\u001B[38;5;241m5714\u001B[39m)\n\u001B[1;32m----> 3\u001B[0m \u001B[43mp\u001B[49m\u001B[38;5;241;43m.\u001B[39;49m\u001B[43mconnect\u001B[49m\u001B[43m(\u001B[49m\u001B[43m)\u001B[49m\n\u001B[0;32m      4\u001B[0m \u001B[38;5;66;03m#d = p.read_dataframe_dict()\u001B[39;00m\n\u001B[0;32m      5\u001B[0m p\u001B[38;5;241m.\u001B[39mdisconnect()\n",
      "File \u001B[1;32m~\\Documents\\GitHub\\pypdatco\\class_PMU.py:56\u001B[0m, in \u001B[0;36mPMU.connect\u001B[1;34m(self)\u001B[0m\n\u001B[0;32m     54\u001B[0m \u001B[38;5;28mself\u001B[39m\u001B[38;5;241m.\u001B[39m__open_socket()\n\u001B[0;32m     55\u001B[0m cfg2 \u001B[38;5;241m=\u001B[39m \u001B[38;5;28mself\u001B[39m\u001B[38;5;241m.\u001B[39mrequest_cfg2()\n\u001B[1;32m---> 56\u001B[0m \u001B[38;5;28;43mself\u001B[39;49m\u001B[38;5;241;43m.\u001B[39;49m\u001B[43mdecode_cfg2\u001B[49m\u001B[43m(\u001B[49m\u001B[43mcfg2\u001B[49m\u001B[43m)\u001B[49m\n",
      "File \u001B[1;32m~\\Documents\\GitHub\\pypdatco\\class_PMU.py:271\u001B[0m, in \u001B[0;36mPMU.decode_cfg2\u001B[1;34m(self, cgf2frame, verbose)\u001B[0m\n\u001B[0;32m    269\u001B[0m DATA_RATEread \u001B[38;5;241m=\u001B[39m cgf2frame[CFGCNTendbyte:DATA_RATEendbyte]\n\u001B[0;32m    270\u001B[0m decDATA_RATE \u001B[38;5;241m=\u001B[39m \u001B[38;5;28mint\u001B[39m\u001B[38;5;241m.\u001B[39mfrom_bytes(DATA_RATEread,\u001B[38;5;124m'\u001B[39m\u001B[38;5;124mbig\u001B[39m\u001B[38;5;124m'\u001B[39m)\n\u001B[1;32m--> 271\u001B[0m \u001B[38;5;28;01massert\u001B[39;00m decDATA_RATE \u001B[38;5;241m!=\u001B[39m\u001B[38;5;241m0\u001B[39m, \u001B[38;5;124m'\u001B[39m\u001B[38;5;124mDATA_RATE cannot be zero\u001B[39m\u001B[38;5;124m'\u001B[39m\n\u001B[0;32m    273\u001B[0m CHKendbyte \u001B[38;5;241m=\u001B[39m DATA_RATEendbyte \u001B[38;5;241m+\u001B[39m \u001B[38;5;241m2\u001B[39m\n\u001B[0;32m    274\u001B[0m CHKread \u001B[38;5;241m=\u001B[39m cgf2frame[DATA_RATEendbyte:CHKendbyte]\n",
      "\u001B[1;31mAssertionError\u001B[0m: DATA_RATE cannot be zero"
     ]
    }
   ],
   "source": [
    "#print dataframe dict\n",
    "p = PMU(\"192.168.10.120\",port=5714)\n",
    "p.connect()\n",
    "#d = p.read_dataframe_dict()\n",
    "p.disconnect()\n",
    "#for keys,values in d.items():\n",
    "#    print(' {}: {}'.format( keys,values))\n"
   ]
  },
  {
   "cell_type": "code",
   "execution_count": 21,
   "metadata": {
    "ExecuteTime": {
     "end_time": "2020-03-11T00:14:32.793422Z",
     "start_time": "2020-03-11T00:14:32.787440Z"
    }
   },
   "outputs": [],
   "source": [
    "#to plot continously\n",
    "def make_fig():\n",
    "    plt.xticks(rotation=70)\n",
    "    plt.tight_layout()\n",
    "    plt.plot(x, y)  "
   ]
  },
  {
   "cell_type": "code",
   "execution_count": 25,
   "metadata": {
    "ExecuteTime": {
     "end_time": "2020-03-11T00:17:58.293497Z",
     "start_time": "2020-03-11T00:17:46.170639Z"
    },
    "scrolled": false
   },
   "outputs": [],
   "source": [
    "#matplotlib\n",
    "#popup window\n",
    "%matplotlib tk \n",
    "\n",
    "plt.ion()  # enable interactivity\n",
    "fig = plt.figure()  # make a figure\n",
    "plt.autoscale(enable=True)\n",
    "x = list()\n",
    "y = list()\n",
    "\n",
    "p = PMU(\"10.10.200.22\")\n",
    "p.connect()\n",
    "#read  measurements \n",
    "#this code is not optimal, n frames per second are expected\n",
    "#is only for testing purposes, data could be lost or superimposed\n",
    "n= 0\n",
    "dataframenumber = 0 #counter for dataframes\n",
    "#ask for n dataframes\n",
    "for i in range(100):\n",
    "    d = p.read_dataframe_dict()\n",
    "    x.append(pd.to_datetime(d['TIME'], format = '%Y-%m-%d %H:%M:%S.%f'))\n",
    "    y.append(d['FREQ'])  # or any arbitrary update to your figure's data\n",
    "    drawnow(make_fig)\n",
    "    if len(x) >30:\n",
    "        x.pop(0)\n",
    "        y.pop(0)\n",
    "    \n",
    "p.disconnect()"
   ]
  },
  {
   "cell_type": "code",
   "execution_count": 27,
   "metadata": {
    "ExecuteTime": {
     "end_time": "2020-03-11T01:23:30.649914Z",
     "start_time": "2020-03-11T01:23:30.643930Z"
    },
    "scrolled": false
   },
   "outputs": [
    {
     "data": {
      "text/plain": [
       "'3.6.7 (default, Jul  2 2019, 02:21:41) [MSC v.1900 64 bit (AMD64)]'"
      ]
     },
     "execution_count": 27,
     "metadata": {},
     "output_type": "execute_result"
    }
   ],
   "source": [
    "import sys\n",
    "sys.version"
   ]
  }
 ],
 "metadata": {
  "hide_input": false,
  "kernelspec": {
   "display_name": "Python 3",
   "language": "python",
   "name": "python3"
  },
  "language_info": {
   "codemirror_mode": {
    "name": "ipython",
    "version": 3
   },
   "file_extension": ".py",
   "mimetype": "text/x-python",
   "name": "python",
   "nbconvert_exporter": "python",
   "pygments_lexer": "ipython3",
   "version": "3.6.7"
  }
 },
 "nbformat": 4,
 "nbformat_minor": 2
}
