{
 "cells": [
  {
   "cell_type": "code",
   "execution_count": null,
   "metadata": {
    "collapsed": true
   },
   "outputs": [
    {
     "name": "stdout",
     "output_type": "stream",
     "text": [
      "starting up on localhost port 10000\n",
      "waiting for a connection\n",
      "connection from ('127.0.0.1', 12266)\n",
      "received b'\\xaaA\\x00\\x12\\x00\\x01c\\xff\\xd1$\\x00\\x003\\x97\\x00\\x05'\n",
      "sending data back to the client\n",
      "received b'\\x07\\x97'\n",
      "sending data back to the client\n",
      "received b''\n",
      "no data from ('127.0.0.1', 12266)\n",
      "waiting for a connection\n",
      "connection from ('127.0.0.1', 11697)\n",
      "received b'\\xaaA\\x00\\x12\\x00\\x01c\\xff\\xd3\\xe7\\x00\\x00\\xa4\\xc8\\x00\\x05'\n",
      "sending data back to the client\n",
      "received b'\\xc3\\xeb'\n",
      "sending data back to the client\n",
      "received b''\n",
      "no data from ('127.0.0.1', 11697)\n",
      "waiting for a connection\n",
      "connection from ('127.0.0.1', 11741)\n",
      "received b'\\xaaA\\x00\\x12\\x00\\x01c\\xff\\xd3\\xef\\x00\\x00\\x08J\\x00\\x05'\n",
      "sending data back to the client\n",
      "received b'\\xa08'\n",
      "sending data back to the client\n",
      "received b''\n",
      "no data from ('127.0.0.1', 11741)\n",
      "waiting for a connection\n"
     ]
    }
   ],
   "source": [
    "import socket\n",
    "import sys\n",
    "\n",
    "# Create a TCP/IP socket\n",
    "sock = socket.socket(socket.AF_INET, socket.SOCK_STREAM)\n",
    "\n",
    "# Bind the socket to the port\n",
    "server_address = ('localhost', 10000)\n",
    "print('starting up on {} port {}'.format(*server_address))\n",
    "sock.bind(server_address)\n",
    "\n",
    "# Listen for incoming connections\n",
    "sock.listen(1)\n",
    "\n",
    "while True:\n",
    "    # Wait for a connection\n",
    "    print('waiting for a connection')\n",
    "    connection, client_address = sock.accept()\n",
    "    try:\n",
    "        print('connection from', client_address)\n",
    "\n",
    "        # Receive the data in small chunks and retransmit it\n",
    "        while True:\n",
    "            data = connection.recv(16)\n",
    "            print('received {!r}'.format(data))\n",
    "            if data:\n",
    "                print('sending data back to the client')\n",
    "                connection.sendall(data)\n",
    "            else:\n",
    "                print('no data from', client_address)\n",
    "                break\n",
    "\n",
    "    finally:\n",
    "        # Clean up the connection\n",
    "        connection.close()"
   ]
  },
  {
   "cell_type": "code",
   "execution_count": null,
   "outputs": [],
   "source": [],
   "metadata": {
    "collapsed": false
   }
  }
 ],
 "metadata": {
  "kernelspec": {
   "display_name": "Python 3",
   "language": "python",
   "name": "python3"
  },
  "language_info": {
   "codemirror_mode": {
    "name": "ipython",
    "version": 2
   },
   "file_extension": ".py",
   "mimetype": "text/x-python",
   "name": "python",
   "nbconvert_exporter": "python",
   "pygments_lexer": "ipython2",
   "version": "2.7.6"
  }
 },
 "nbformat": 4,
 "nbformat_minor": 0
}
